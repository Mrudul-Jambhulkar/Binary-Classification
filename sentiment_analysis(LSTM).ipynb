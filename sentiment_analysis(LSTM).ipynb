{
  "cells": [
    {
      "cell_type": "markdown",
      "metadata": {
        "id": "D0lIe1uahq_L"
      },
      "source": [
        "## **Mounting Google Drive**\n",
        "First, we need to import the dataset from your Google Drive. To do so, **run the below cell**. This will mount your Drive to the running Colab instance. Then, you will be able to access all your Google Drive data in this notebook."
      ]
    },
    {
      "cell_type": "code",
      "execution_count": null,
      "metadata": {
        "id": "ObnNbRJPQrYK",
        "outputId": "5c338905-070f-4bfe-fb0c-5d24a5832a40",
        "colab": {
          "base_uri": "https://localhost:8080/"
        }
      },
      "outputs": [
        {
          "output_type": "stream",
          "name": "stdout",
          "text": [
            "Drive already mounted at /content/drive; to attempt to forcibly remount, call drive.mount(\"/content/drive\", force_remount=True).\n"
          ]
        }
      ],
      "source": [
        "from google.colab import drive\n",
        "drive.mount('/content/drive')"
      ]
    },
    {
      "cell_type": "markdown",
      "metadata": {
        "id": "ElYLMOGFBq1r"
      },
      "source": [
        "## **Import the Libraries**\n",
        "\n",
        "Run the cell below to import all the necessary libraries for building the sentiment analysis model."
      ]
    },
    {
      "cell_type": "code",
      "execution_count": null,
      "metadata": {
        "id": "eNUw4hS8BrbK",
        "colab": {
          "base_uri": "https://localhost:8080/"
        },
        "outputId": "ddc7d3c8-7d93-41f7-8d5e-26be0aaf8711"
      },
      "outputs": [
        {
          "output_type": "stream",
          "name": "stderr",
          "text": [
            "[nltk_data] Downloading package punkt to /root/nltk_data...\n",
            "[nltk_data]   Unzipping tokenizers/punkt.zip.\n",
            "[nltk_data] Downloading package stopwords to /root/nltk_data...\n",
            "[nltk_data]   Unzipping corpora/stopwords.zip.\n",
            "[nltk_data] Downloading package wordnet to /root/nltk_data...\n"
          ]
        },
        {
          "output_type": "stream",
          "name": "stdout",
          "text": [
            "Requirement already satisfied: tqdm in /usr/local/lib/python3.10/dist-packages (4.65.0)\n"
          ]
        }
      ],
      "source": [
        "import numpy as np\n",
        "import pandas as pd\n",
        "import seaborn as sns\n",
        "import matplotlib.pyplot as plt\n",
        "import torch\n",
        "import torch.nn as nn\n",
        "import torch.nn.functional as F\n",
        "\n",
        "device = 'cuda' if torch.cuda.is_available() else 'cpu'\n",
        "\n",
        "import nltk\n",
        "nltk.download('punkt')\n",
        "nltk.download('stopwords')\n",
        "nltk.download('wordnet')\n",
        "from nltk.corpus import stopwords\n",
        "from nltk.stem import WordNetLemmatizer\n",
        "from nltk.tokenize import RegexpTokenizer\n",
        "\n",
        "!pip install tqdm\n",
        "from tqdm import tqdm\n",
        "from torch.utils.data import TensorDataset, DataLoader\n",
        "from sklearn.model_selection import train_test_split"
      ]
    },
    {
      "cell_type": "markdown",
      "source": [
        "## **Loading the Dataset**\n",
        "\n",
        "The below cell contains a function `getdata`, which takes as argument the path to `reviews.csv` in your Google Drive, loads the CSV file into a Pandas DataFrame and finally returns the DataFrame.\n",
        "\n",
        "Complete the function and then add the path to `IMDB Dataset.csv` in the space indicated. Run the cell to load the dataset."
      ],
      "metadata": {
        "id": "-q-caOpJ_qhU"
      }
    },
    {
      "cell_type": "code",
      "source": [
        "def getdata(path):\n",
        "\n",
        "  # <START>\n",
        "  df = pd.read_csv(path)\n",
        "  return df\n",
        "  # <END>\n",
        "\n",
        "# Insert the path to the file in the space below\n",
        "# <START>\n",
        "path = '/content/drive/MyDrive/NNLLM/reviews.csv'\n",
        "# <END>\n",
        "\n",
        "df = getdata(path)\n",
        "df.head(5)"
      ],
      "metadata": {
        "id": "lpaOs3EkAgJC",
        "colab": {
          "base_uri": "https://localhost:8080/",
          "height": 206
        },
        "outputId": "e97a441b-c461-4d24-be34-71468f4fd2c5"
      },
      "execution_count": null,
      "outputs": [
        {
          "output_type": "execute_result",
          "data": {
            "text/plain": [
              "                                              review sentiment\n",
              "0  One of the other reviewers has mentioned that ...  positive\n",
              "1  A wonderful little production. <br /><br />The...  positive\n",
              "2  I thought this was a wonderful way to spend ti...  positive\n",
              "3  Basically there's a family where a little boy ...  negative\n",
              "4  Petter Mattei's \"Love in the Time of Money\" is...  positive"
            ],
            "text/html": [
              "\n",
              "\n",
              "  <div id=\"df-351d30fd-2a67-4380-b4f8-9d80447e94e7\">\n",
              "    <div class=\"colab-df-container\">\n",
              "      <div>\n",
              "<style scoped>\n",
              "    .dataframe tbody tr th:only-of-type {\n",
              "        vertical-align: middle;\n",
              "    }\n",
              "\n",
              "    .dataframe tbody tr th {\n",
              "        vertical-align: top;\n",
              "    }\n",
              "\n",
              "    .dataframe thead th {\n",
              "        text-align: right;\n",
              "    }\n",
              "</style>\n",
              "<table border=\"1\" class=\"dataframe\">\n",
              "  <thead>\n",
              "    <tr style=\"text-align: right;\">\n",
              "      <th></th>\n",
              "      <th>review</th>\n",
              "      <th>sentiment</th>\n",
              "    </tr>\n",
              "  </thead>\n",
              "  <tbody>\n",
              "    <tr>\n",
              "      <th>0</th>\n",
              "      <td>One of the other reviewers has mentioned that ...</td>\n",
              "      <td>positive</td>\n",
              "    </tr>\n",
              "    <tr>\n",
              "      <th>1</th>\n",
              "      <td>A wonderful little production. &lt;br /&gt;&lt;br /&gt;The...</td>\n",
              "      <td>positive</td>\n",
              "    </tr>\n",
              "    <tr>\n",
              "      <th>2</th>\n",
              "      <td>I thought this was a wonderful way to spend ti...</td>\n",
              "      <td>positive</td>\n",
              "    </tr>\n",
              "    <tr>\n",
              "      <th>3</th>\n",
              "      <td>Basically there's a family where a little boy ...</td>\n",
              "      <td>negative</td>\n",
              "    </tr>\n",
              "    <tr>\n",
              "      <th>4</th>\n",
              "      <td>Petter Mattei's \"Love in the Time of Money\" is...</td>\n",
              "      <td>positive</td>\n",
              "    </tr>\n",
              "  </tbody>\n",
              "</table>\n",
              "</div>\n",
              "      <button class=\"colab-df-convert\" onclick=\"convertToInteractive('df-351d30fd-2a67-4380-b4f8-9d80447e94e7')\"\n",
              "              title=\"Convert this dataframe to an interactive table.\"\n",
              "              style=\"display:none;\">\n",
              "\n",
              "  <svg xmlns=\"http://www.w3.org/2000/svg\" height=\"24px\"viewBox=\"0 0 24 24\"\n",
              "       width=\"24px\">\n",
              "    <path d=\"M0 0h24v24H0V0z\" fill=\"none\"/>\n",
              "    <path d=\"M18.56 5.44l.94 2.06.94-2.06 2.06-.94-2.06-.94-.94-2.06-.94 2.06-2.06.94zm-11 1L8.5 8.5l.94-2.06 2.06-.94-2.06-.94L8.5 2.5l-.94 2.06-2.06.94zm10 10l.94 2.06.94-2.06 2.06-.94-2.06-.94-.94-2.06-.94 2.06-2.06.94z\"/><path d=\"M17.41 7.96l-1.37-1.37c-.4-.4-.92-.59-1.43-.59-.52 0-1.04.2-1.43.59L10.3 9.45l-7.72 7.72c-.78.78-.78 2.05 0 2.83L4 21.41c.39.39.9.59 1.41.59.51 0 1.02-.2 1.41-.59l7.78-7.78 2.81-2.81c.8-.78.8-2.07 0-2.86zM5.41 20L4 18.59l7.72-7.72 1.47 1.35L5.41 20z\"/>\n",
              "  </svg>\n",
              "      </button>\n",
              "\n",
              "\n",
              "\n",
              "    <div id=\"df-304343ef-8af5-40ac-97e7-8249c4bf9e51\">\n",
              "      <button class=\"colab-df-quickchart\" onclick=\"quickchart('df-304343ef-8af5-40ac-97e7-8249c4bf9e51')\"\n",
              "              title=\"Suggest charts.\"\n",
              "              style=\"display:none;\">\n",
              "\n",
              "<svg xmlns=\"http://www.w3.org/2000/svg\" height=\"24px\"viewBox=\"0 0 24 24\"\n",
              "     width=\"24px\">\n",
              "    <g>\n",
              "        <path d=\"M19 3H5c-1.1 0-2 .9-2 2v14c0 1.1.9 2 2 2h14c1.1 0 2-.9 2-2V5c0-1.1-.9-2-2-2zM9 17H7v-7h2v7zm4 0h-2V7h2v10zm4 0h-2v-4h2v4z\"/>\n",
              "    </g>\n",
              "</svg>\n",
              "      </button>\n",
              "    </div>\n",
              "\n",
              "<style>\n",
              "  .colab-df-quickchart {\n",
              "    background-color: #E8F0FE;\n",
              "    border: none;\n",
              "    border-radius: 50%;\n",
              "    cursor: pointer;\n",
              "    display: none;\n",
              "    fill: #1967D2;\n",
              "    height: 32px;\n",
              "    padding: 0 0 0 0;\n",
              "    width: 32px;\n",
              "  }\n",
              "\n",
              "  .colab-df-quickchart:hover {\n",
              "    background-color: #E2EBFA;\n",
              "    box-shadow: 0px 1px 2px rgba(60, 64, 67, 0.3), 0px 1px 3px 1px rgba(60, 64, 67, 0.15);\n",
              "    fill: #174EA6;\n",
              "  }\n",
              "\n",
              "  [theme=dark] .colab-df-quickchart {\n",
              "    background-color: #3B4455;\n",
              "    fill: #D2E3FC;\n",
              "  }\n",
              "\n",
              "  [theme=dark] .colab-df-quickchart:hover {\n",
              "    background-color: #434B5C;\n",
              "    box-shadow: 0px 1px 3px 1px rgba(0, 0, 0, 0.15);\n",
              "    filter: drop-shadow(0px 1px 2px rgba(0, 0, 0, 0.3));\n",
              "    fill: #FFFFFF;\n",
              "  }\n",
              "</style>\n",
              "\n",
              "    <script>\n",
              "      async function quickchart(key) {\n",
              "        const containerElement = document.querySelector('#' + key);\n",
              "        const charts = await google.colab.kernel.invokeFunction(\n",
              "            'suggestCharts', [key], {});\n",
              "      }\n",
              "    </script>\n",
              "\n",
              "      <script>\n",
              "\n",
              "function displayQuickchartButton(domScope) {\n",
              "  let quickchartButtonEl =\n",
              "    domScope.querySelector('#df-304343ef-8af5-40ac-97e7-8249c4bf9e51 button.colab-df-quickchart');\n",
              "  quickchartButtonEl.style.display =\n",
              "    google.colab.kernel.accessAllowed ? 'block' : 'none';\n",
              "}\n",
              "\n",
              "        displayQuickchartButton(document);\n",
              "      </script>\n",
              "      <style>\n",
              "    .colab-df-container {\n",
              "      display:flex;\n",
              "      flex-wrap:wrap;\n",
              "      gap: 12px;\n",
              "    }\n",
              "\n",
              "    .colab-df-convert {\n",
              "      background-color: #E8F0FE;\n",
              "      border: none;\n",
              "      border-radius: 50%;\n",
              "      cursor: pointer;\n",
              "      display: none;\n",
              "      fill: #1967D2;\n",
              "      height: 32px;\n",
              "      padding: 0 0 0 0;\n",
              "      width: 32px;\n",
              "    }\n",
              "\n",
              "    .colab-df-convert:hover {\n",
              "      background-color: #E2EBFA;\n",
              "      box-shadow: 0px 1px 2px rgba(60, 64, 67, 0.3), 0px 1px 3px 1px rgba(60, 64, 67, 0.15);\n",
              "      fill: #174EA6;\n",
              "    }\n",
              "\n",
              "    [theme=dark] .colab-df-convert {\n",
              "      background-color: #3B4455;\n",
              "      fill: #D2E3FC;\n",
              "    }\n",
              "\n",
              "    [theme=dark] .colab-df-convert:hover {\n",
              "      background-color: #434B5C;\n",
              "      box-shadow: 0px 1px 3px 1px rgba(0, 0, 0, 0.15);\n",
              "      filter: drop-shadow(0px 1px 2px rgba(0, 0, 0, 0.3));\n",
              "      fill: #FFFFFF;\n",
              "    }\n",
              "  </style>\n",
              "\n",
              "      <script>\n",
              "        const buttonEl =\n",
              "          document.querySelector('#df-351d30fd-2a67-4380-b4f8-9d80447e94e7 button.colab-df-convert');\n",
              "        buttonEl.style.display =\n",
              "          google.colab.kernel.accessAllowed ? 'block' : 'none';\n",
              "\n",
              "        async function convertToInteractive(key) {\n",
              "          const element = document.querySelector('#df-351d30fd-2a67-4380-b4f8-9d80447e94e7');\n",
              "          const dataTable =\n",
              "            await google.colab.kernel.invokeFunction('convertToInteractive',\n",
              "                                                     [key], {});\n",
              "          if (!dataTable) return;\n",
              "\n",
              "          const docLinkHtml = 'Like what you see? Visit the ' +\n",
              "            '<a target=\"_blank\" href=https://colab.research.google.com/notebooks/data_table.ipynb>data table notebook</a>'\n",
              "            + ' to learn more about interactive tables.';\n",
              "          element.innerHTML = '';\n",
              "          dataTable['output_type'] = 'display_data';\n",
              "          await google.colab.output.renderOutput(dataTable, element);\n",
              "          const docLink = document.createElement('div');\n",
              "          docLink.innerHTML = docLinkHtml;\n",
              "          element.appendChild(docLink);\n",
              "        }\n",
              "      </script>\n",
              "    </div>\n",
              "  </div>\n"
            ]
          },
          "metadata": {},
          "execution_count": 5
        }
      ]
    },
    {
      "cell_type": "markdown",
      "metadata": {
        "id": "GbRrtTIYBrbM"
      },
      "source": [
        "## **Splitting the Dataset into Training and Testing Data**\n",
        "Complete the below cell that splits the loaded data into training and testing sets. The recommended train:test ratio is 80:20, but feel free to change this later and see how it affects the accuracy of the model. Note that the cell should store the training and testing reviews in `x_train` and `x_test` respectively, and their corresponding sentiments in `y_train` and `y_test` respectively.\n",
        "\n",
        "<details>\n",
        "  <summary>Hint</summary>\n",
        "  Check out the train_test_split function from sklearn.\n",
        "  Do not forget to shuffle the dataset!\n",
        "</details>"
      ]
    },
    {
      "cell_type": "code",
      "execution_count": null,
      "metadata": {
        "id": "2VAB-v2HBrbM",
        "colab": {
          "base_uri": "https://localhost:8080/"
        },
        "outputId": "30fe86ff-b7d4-4bc5-9c08-3c98cf14efd4"
      },
      "outputs": [
        {
          "output_type": "stream",
          "name": "stdout",
          "text": [
            "(40000,)\n",
            "(10000,)\n"
          ]
        }
      ],
      "source": [
        "train_df, test_df = train_test_split(df, test_size=0.2, random_state=42, shuffle=True)\n",
        "\n",
        "# <START>\n",
        "x_train =train_df['review']\n",
        "x_test =test_df['review']\n",
        "y_train =train_df['sentiment']\n",
        "y_test =test_df['sentiment']\n",
        "# <END>\n",
        "\n",
        "print(x_train.shape)\n",
        "print(x_test.shape)"
      ]
    },
    {
      "cell_type": "markdown",
      "source": [
        "Before we proceed, let's make sure we have a well distributed training dataset by checking the number of positive and negative reviews it contains.\n",
        "\n",
        "If your values deviate too much from the optimal 50-50 ratio, it is recommended that you modify the above cell to shuffle the dataset differently."
      ],
      "metadata": {
        "id": "IOJcQL3EGVOX"
      }
    },
    {
      "cell_type": "code",
      "source": [
        "count_positive = 0\n",
        "count_negative = 0\n",
        "\n",
        "for i in y_train:\n",
        "  if i == \"positive\":\n",
        "    count_positive += 1\n",
        "  elif i ==\"negative\":\n",
        "    count_negative += 1\n",
        "\n",
        "print(\"Positive reviews:\", count_positive/(count_positive + count_negative)*100, \"%\")\n",
        "print(\"Negative reviews:\", count_negative/(count_positive + count_negative)*100, \"%\")"
      ],
      "metadata": {
        "id": "UBm9-OJ5GiiX",
        "colab": {
          "base_uri": "https://localhost:8080/"
        },
        "outputId": "a97e5050-6b0f-4f92-8395-67fcbdabab20"
      },
      "execution_count": null,
      "outputs": [
        {
          "output_type": "stream",
          "name": "stdout",
          "text": [
            "Positive reviews: 49.902499999999996 %\n",
            "Negative reviews: 50.0975 %\n"
          ]
        }
      ]
    },
    {
      "cell_type": "markdown",
      "metadata": {
        "id": "vbF4nskOBrbN"
      },
      "source": [
        "## **Preprocessing**\n",
        "As you saw in last week's assignment, preprocessing a very important step in NLP. Complete the below function to perform the following tasks. The function should take as input a set of reviews `x_train` or `x_test`, and return a list of preprocessed reviews.\n",
        "\n",
        "\n",
        "1.   Case the corpus to lower case\n",
        "2.   Remove punctuation\n",
        "3.   Lemmatize\n",
        "4.   Remove stop words\n",
        "\n",
        "Feel free to refer to last week's assignment for guidance.\n",
        "\n",
        "*Note that as the dataset is much larger this time, the cell may take a while to run.*"
      ]
    },
    {
      "cell_type": "code",
      "execution_count": null,
      "metadata": {
        "id": "TJn1Uqc4BrbO",
        "colab": {
          "base_uri": "https://localhost:8080/"
        },
        "outputId": "b13e2051-d12f-4587-bd1e-d0d33a974fa6"
      },
      "outputs": [
        {
          "output_type": "stream",
          "name": "stdout",
          "text": [
            "[['assignment'], ['notebook', 'run', 'cloud'], ['cloud', 'however', 'much', 'ground']]\n"
          ]
        }
      ],
      "source": [
        "#The list of stopwords has been coverted into a set, making it faster to check if a given word is in it\n",
        "stop_words = set(stopwords.words('english'))\n",
        "\n",
        "# Using the below tokenizer helps us get rid of punctuation,\n",
        "tokenizer = RegexpTokenizer(r'\\w+')\n",
        "# And the lemmatizer to convert words to simpler forms\n",
        "lemmatizer = WordNetLemmatizer()\n",
        "\n",
        "def preprocess(x_set):\n",
        "    result = []\n",
        "    for i in x_set:\n",
        "      # <START>\n",
        "      words = tokenizer.tokenize(i.lower())\n",
        "      out =[lemmatizer.lemmatize(word) for word in words if word not in stop_words]\n",
        "      # <END>\n",
        "      result.append(out)\n",
        "    return result\n",
        "\n",
        "#Testing the function\n",
        "test_preprocess = preprocess([\"This is an assignment.\",'The notebook runs on the cloud.','The cloud, however, is very much on the ground,'])\n",
        "print(test_preprocess)\n",
        "assert test_preprocess == [['assignment'], ['notebook', 'run', 'cloud'], ['cloud', 'however', 'much', 'ground']]\n",
        "\n",
        "x_train_preprocessed = preprocess(x_train)\n",
        "x_test_preprocessed = preprocess(x_test)"
      ]
    },
    {
      "cell_type": "markdown",
      "source": [
        "## **Building the Vocabulary**\n",
        "Complete the below function which takes as argument the preprocessed **training set** and returns a dictionary mapping each unique word to a unique ID. However this time, we shall begin with giving the first word an ID of `1`. The reason for this will become clear soon.\n",
        "\n",
        "Again, feel free to refer to last week's assignment."
      ],
      "metadata": {
        "id": "SNLwSHF4Lcqu"
      }
    },
    {
      "cell_type": "code",
      "source": [
        "def create_vocabulary(x_train_preprocessed):\n",
        "  '''Creates a dictionary with all unique words in corpus with id'''\n",
        "  vocabulary = {}\n",
        "  id = 1\n",
        "  # <START>\n",
        "  for s in x_train_preprocessed:\n",
        "    for w in s:\n",
        "        if w not in vocabulary:\n",
        "          vocabulary[w]=id\n",
        "          id+=1\n",
        "  return vocabulary\n",
        "\n",
        "vocabulary = create_vocabulary(x_train_preprocessed)\n",
        "print(len(vocabulary))"
      ],
      "metadata": {
        "id": "FKRU-3xDOLpx",
        "colab": {
          "base_uri": "https://localhost:8080/"
        },
        "outputId": "8c559cd4-948f-4582-f6f0-fdb24b8d98c4"
      },
      "execution_count": null,
      "outputs": [
        {
          "output_type": "stream",
          "name": "stdout",
          "text": [
            "83978\n"
          ]
        }
      ]
    },
    {
      "cell_type": "markdown",
      "source": [
        "## **Converting to Numerical Form**\n",
        "Since we need to convert our words into numerical input for the neural network to be able to process it, let's replace the words in our reviews with their corresponding IDs from the vocabulary (not their one-hot embeddings, just their IDs).\n",
        "\n",
        "Complete the below function that takes as input the set of reviews (`x_train_preprocessed` and `x_test_preprocessed`) and converts them to their numerical form.\n"
      ],
      "metadata": {
        "id": "oFsfs_POeMkk"
      }
    },
    {
      "cell_type": "code",
      "source": [
        "def convert_to_numerical(x_set):\n",
        "  converted = []\n",
        "    # <START>\n",
        "  for x in x_set:\n",
        "    m=[]\n",
        "    for w in x:\n",
        "      if w in vocabulary:\n",
        "        m.append(vocabulary[w])\n",
        "    converted.append(m)\n",
        "  return converted\n",
        "\n",
        "#Testing your function\n",
        "vocab_list = list(vocabulary.keys())\n",
        "print(convert_to_numerical([[vocab_list[47],vocab_list[186],vocab_list[4005]]]))\n",
        "assert convert_to_numerical([[vocab_list[47],vocab_list[186],vocab_list[4005]]]) == [[48, 187, 4006]]\n"
      ],
      "metadata": {
        "id": "zhjvZjcMhRHI",
        "colab": {
          "base_uri": "https://localhost:8080/"
        },
        "outputId": "2954c278-e9e6-4ebc-fcdd-eaee0406dbf9"
      },
      "execution_count": null,
      "outputs": [
        {
          "output_type": "stream",
          "name": "stdout",
          "text": [
            "[[48, 187, 4006]]\n"
          ]
        }
      ]
    },
    {
      "cell_type": "code",
      "source": [
        "x_train_numerical = convert_to_numerical(x_train_preprocessed)\n",
        "x_test_numerical = convert_to_numerical(x_test_preprocessed)\n",
        "\n",
        "print(len(x_train_numerical))"
      ],
      "metadata": {
        "id": "hkXMWld3ehG9",
        "colab": {
          "base_uri": "https://localhost:8080/"
        },
        "outputId": "aad384d7-2336-4358-ef07-c2b748f5915c"
      },
      "execution_count": null,
      "outputs": [
        {
          "output_type": "stream",
          "name": "stdout",
          "text": [
            "40000\n"
          ]
        }
      ]
    },
    {
      "cell_type": "markdown",
      "source": [
        "Notice that our sentiment labels (`y_train` and `y_test`) currently contain the words `positive` and `negative`. Let's convert them to `1` and `0` respectively."
      ],
      "metadata": {
        "id": "bKjdEgl3ikYE"
      }
    },
    {
      "cell_type": "code",
      "source": [
        "def convert_labels(y_set):\n",
        "  converted=[]\n",
        "    # <START>\n",
        "  for i in y_set:\n",
        "    if i=='positive':\n",
        "      converted.append(1)\n",
        "    else:\n",
        "      converted.append(0)\n",
        "  return converted\n",
        "\n",
        "assert convert_labels(['positive','negative','positive','positive','negative']) == [1,0,1,1,0]\n",
        "\n",
        "y_train_numerical = convert_labels(y_train)\n",
        "y_test_numerical = convert_labels(y_test)\n",
        "\n",
        "print(len(y_train_numerical))"
      ],
      "metadata": {
        "id": "bkDKnbYHi4tm",
        "colab": {
          "base_uri": "https://localhost:8080/"
        },
        "outputId": "1d6d98d4-8cd2-4495-8433-24491bbde9c5"
      },
      "execution_count": null,
      "outputs": [
        {
          "output_type": "stream",
          "name": "stdout",
          "text": [
            "40000\n"
          ]
        }
      ]
    },
    {
      "cell_type": "markdown",
      "source": [
        "## **Normalizing the Reviews' lengths**\n",
        "Since our reviews have variable lengths, we will employ a technique called **padding**.to normalize them.\n",
        "\n",
        "Run the below cell to analyze the present lengths of our reviews."
      ],
      "metadata": {
        "id": "k97nNtmeTXKn"
      }
    },
    {
      "cell_type": "code",
      "source": [
        "lengths = [len(i) for i in x_train_preprocessed]\n",
        "lengths_sum = sum(lengths)\n",
        "num_lengths = len(lengths)\n",
        "avg_length = lengths_sum/num_lengths\n",
        "max_length = max(lengths)\n",
        "\n",
        "print(\"Average length of reviews: \", avg_length)\n",
        "print(\"Length of the longest review: \", max_length)"
      ],
      "metadata": {
        "id": "lBpGv4w9T4AR",
        "colab": {
          "base_uri": "https://localhost:8080/"
        },
        "outputId": "588f9f59-de7d-4c92-80cf-b1e83b725d0a"
      },
      "execution_count": null,
      "outputs": [
        {
          "output_type": "stream",
          "name": "stdout",
          "text": [
            "Average length of reviews:  123.540625\n",
            "Length of the longest review:  1455\n"
          ]
        }
      ]
    },
    {
      "cell_type": "markdown",
      "source": [
        "Padding all the reviews to the maximum length would preserve all our data, but at the same time it would be highly inefficient. Instead, let's settle on an intermediate value of 150 and pad all shorter reviews to 150. As for the longer ones, our model can probably perform sentiment analysis without the *entire* review, so we'll truncate them to 150 words.\n",
        "\n",
        "For this purpose, we shall use a ghost ID of `0` to represent the padding token. This is why we did not give this ID to the first word.\n",
        "\n",
        "Run the below cell to normalize the lengths as mentioned."
      ],
      "metadata": {
        "id": "bveQkxZOWnS8"
      }
    },
    {
      "cell_type": "code",
      "source": [
        "def normalize(x_set, max_length):\n",
        "    temp = np.zeros((len(x_set), max_length),dtype=int)\n",
        "    for i, sentence in enumerate(x_set):\n",
        "        if len(sentence) != 0:\n",
        "            temp[i, -len(sentence):] = np.array(sentence)[:max_length]\n",
        "    return temp\n",
        "\n",
        "max_length = 150\n",
        "\n",
        "x_train_normalized = normalize(x_train_numerical, max_length)\n",
        "x_test_normalized = normalize(x_test_numerical, max_length)"
      ],
      "metadata": {
        "id": "ouVh5UrnZKDT"
      },
      "execution_count": null,
      "outputs": []
    },
    {
      "cell_type": "markdown",
      "metadata": {
        "id": "5CEWbRjXBrbP"
      },
      "source": [
        "## **Converting the Data to Tensors**\n",
        "Now that we are done processing all the reviews, it's time to start building our sentiment analysis model. But first, we'll need to convert our training and testing data into a suitable form.\n",
        "\n",
        "This can be done using the `TensorDataset` class of PyTorch, which creates a dataset containing tensors for input features and labels.\n",
        "\n",
        "Since this class takes only NumPy ndarrays as parameters, we'll need to convert `y_train_numerical` and `y_test_numerical` into ndarrays."
      ]
    },
    {
      "cell_type": "code",
      "source": [
        "final_train_data = TensorDataset(torch.from_numpy(x_train_normalized), torch.tensor(y_train_numerical))\n",
        "final_test_data = TensorDataset(torch.from_numpy(x_test_normalized), torch.tensor(y_test_numerical))"
      ],
      "metadata": {
        "id": "qLVPF86FnW6Z"
      },
      "execution_count": null,
      "outputs": []
    },
    {
      "cell_type": "markdown",
      "source": [
        "## **Loading the Data in Batches**\n",
        "Since our dataset is quite large, loading it all at once won't be feasible. A much more efficient way of loading the dataset is to do it in **batches**. This can be done using PyTorch's DataLoader constructor.\n",
        "\n",
        "The below cell creates `train_batch_loader` and `test_batch_loader`, using the variable `batch_size`.\n",
        "\n",
        "<details>\n",
        "  <summary>Note</summary>\n",
        "The shuffle = True parameter is important, omitting it would defeat the purpose of batching!</details>"
      ],
      "metadata": {
        "id": "pjG46lSurNmF"
      }
    },
    {
      "cell_type": "code",
      "execution_count": null,
      "metadata": {
        "id": "ITFt2pVBBrbP"
      },
      "outputs": [],
      "source": [
        "batch_size = 64\n",
        "\n",
        "train_batch_loader = DataLoader(final_train_data, shuffle=True, batch_size=batch_size)\n",
        "test_batch_loader = DataLoader(final_test_data, shuffle=True, batch_size=batch_size)"
      ]
    },
    {
      "cell_type": "markdown",
      "source": [
        "Run the following cell to visualize an input-labels pair from a batch of the training data. Observe that the size of any set of input features is $[\\textrm{number of batches}, \\textrm{maximum (normalized) length of review}]$."
      ],
      "metadata": {
        "id": "jdaNXixrs_ov"
      }
    },
    {
      "cell_type": "code",
      "execution_count": null,
      "metadata": {
        "id": "0sGdzClJBrbP",
        "colab": {
          "base_uri": "https://localhost:8080/"
        },
        "outputId": "500abc9d-f122-47c5-e0d5-4127570a06c8"
      },
      "outputs": [
        {
          "output_type": "stream",
          "name": "stdout",
          "text": [
            "Input size: torch.Size([64, 150])\n",
            "Input feature: \n",
            " tensor([[    0,     0,     0,  ..., 65543, 65543, 65544],\n",
            "        [   98,  6815,  4028,  ...,    57, 53480, 47116],\n",
            "        [    0,     0,     0,  ...,   174,  1010,  4042],\n",
            "        ...,\n",
            "        [ 4297, 14305,  3124,  ..., 15266, 50814, 13791],\n",
            "        [  562, 81300, 14877,  ...,  4113,   825,  1624],\n",
            "        [    0,     0,     0,  ...,  6935,  1073,   102]])\n",
            "Label: \n",
            " tensor([1, 0, 0, 0, 0, 1, 1, 0, 0, 1, 1, 1, 0, 0, 0, 0, 0, 1, 0, 1, 1, 0, 1, 1,\n",
            "        1, 1, 1, 0, 1, 1, 0, 1, 0, 0, 1, 0, 1, 0, 0, 0, 1, 1, 0, 0, 1, 1, 0, 0,\n",
            "        0, 1, 0, 1, 0, 1, 0, 1, 1, 1, 0, 0, 1, 1, 0, 0])\n"
          ]
        }
      ],
      "source": [
        "sample_batch = train_batch_loader\n",
        "for x, y in sample_batch:\n",
        "  print(\"Input size:\", x.size())\n",
        "  print(\"Input feature: \\n\", x)\n",
        "  print(\"Label: \\n\", y)\n",
        "  break\n"
      ]
    },
    {
      "cell_type": "markdown",
      "metadata": {
        "id": "YlOP0HiBBrbP"
      },
      "source": [
        "## **Building the Model**\n",
        "Complete the below cell to build the RNN model. This time, we will be using **Python classes** to define the model. The class will inherit from `torch.nn.Module`, which is PyTorch's base class for all neural network modules.\n",
        "\n",
        "This time, the model will have 5 parts:\n",
        "- An **Embedding** layer that converts the IDs of all the words in the vocabulary, and converts them to embedding vectors of a defined size  \n",
        "Note that this is basically doing the job of the emdedding model from last time\n",
        "- The **LSTM layer(s)** that will sequentially run through the data.  \n",
        "PyTorch allows you to define multiple continuous LSTM layers with a simpler syntax than having to individually define each one\n",
        "- The **Dropout** layer. This makes sure our model doesn't overfit the training data. With a predefined probability, it excludes certain nodes from the architecture in each training run.\n",
        "- The **Linear** layer. This takes the predicted tokens and converts them into a single prediction on whether or not the sentiment is positive or negative.\n",
        "- Of course, the part of making the predicition a probability is done by the **Sigmoid** layer\n",
        "\n",
        "The forward function has already been written for you. You are to now define these layers in the RNN object.\n",
        "\n",
        "For the LSTM layer, note that the current assignment implements a *batch first* approach."
      ]
    },
    {
      "cell_type": "code",
      "execution_count": null,
      "metadata": {
        "id": "xa8yqaeDBrbP"
      },
      "outputs": [],
      "source": [
        "class RNN_SA(nn.Module):\n",
        "\n",
        "    # CLASS CONSTRUCTOR\n",
        "    def __init__(self, num_layers, hidden_layer_size, embedding_layer_size, output_layer_size, vocabulary_size, dropout_probability=0.5):\n",
        "        super(RNN_SA,self).__init__()\n",
        "\n",
        "        # Initialize the class variables with the values provided as arguments\n",
        "        self.output_layer_size = output_layer_size\n",
        "        self.hidden_dim = hidden_layer_size\n",
        "        self.num_layers = num_layers\n",
        "        self.vocabulary_size = vocabulary_size\n",
        "\n",
        "        # <START>\n",
        "        # Define the embedding layer\n",
        "        self.embedding =nn.Embedding(vocabulary_size, embedding_layer_size)\n",
        "\n",
        "        # Define the LSTM unit\n",
        "        self.lstm = nn.LSTM(embedding_layer_size, hidden_layer_size, num_layers, batch_first=True, dropout=dropout_probability)\n",
        "\n",
        "        # Define the Dropout layer\n",
        "        self.dropout_layer =nn.Dropout(p=dropout_probability)\n",
        "\n",
        "        # Define the linear hidden layer and output sigmoid layer\n",
        "        self.linear_layer =nn.Linear(hidden_layer_size, output_layer_size)\n",
        "        self.sigmoid_layer =nn.Sigmoid()\n",
        "        # <END>\n",
        "\n",
        "    def forward(self, x):\n",
        "        batch_size = x.size(0)\n",
        "        embeds = self.embedding(x)\n",
        "        lstm_out,_ = self.lstm(embeds)\n",
        "        lstm_out = lstm_out.contiguous().view(-1, self.hidden_dim)\n",
        "        out = self.dropout_layer(lstm_out)\n",
        "        out = self.linear_layer(out)\n",
        "        sig_out = self.sigmoid_layer(out)\n",
        "        sig_out = sig_out.view(batch_size, -1)\n",
        "        sig_out = sig_out[:, -1]\n",
        "        return sig_out"
      ]
    },
    {
      "cell_type": "markdown",
      "source": [
        "Run the below cell to create a model using the class you just defined.\n",
        "\n",
        "<details>\n",
        "  <summary>Why is vocabulary_size = len(vocabulary) + 1?</summary>\n",
        "  The extra 1 is because of the ghost ID 0 we added for padding\n",
        "</details>"
      ],
      "metadata": {
        "id": "b6Evd1FaS857"
      }
    },
    {
      "cell_type": "code",
      "execution_count": null,
      "metadata": {
        "id": "9R_KCEx7BrbQ",
        "colab": {
          "base_uri": "https://localhost:8080/"
        },
        "outputId": "8d36c4fc-48bd-49b7-9788-689d3da630a8"
      },
      "outputs": [
        {
          "output_type": "stream",
          "name": "stdout",
          "text": [
            "RNN_SA(\n",
            "  (embedding): Embedding(83979, 64)\n",
            "  (lstm): LSTM(64, 256, num_layers=2, batch_first=True, dropout=0.3)\n",
            "  (dropout_layer): Dropout(p=0.3, inplace=False)\n",
            "  (linear_layer): Linear(in_features=256, out_features=1, bias=True)\n",
            "  (sigmoid_layer): Sigmoid()\n",
            ")\n"
          ]
        }
      ],
      "source": [
        "num_layers = 2\n",
        "vocabulary_size = len(vocabulary) + 1\n",
        "embedding_layer_size = 64\n",
        "output_layer_size = 1\n",
        "hidden_layer_size = 256\n",
        "\n",
        "\n",
        "model = RNN_SA(num_layers, hidden_layer_size, embedding_layer_size, output_layer_size, vocabulary_size, dropout_probability=0.3)\n",
        "\n",
        "print(model)"
      ]
    },
    {
      "cell_type": "markdown",
      "source": [
        "Expected:\n",
        "```console\n",
        "RNN_SA(\n",
        "  (embedding): Embedding(VOCAB_SIZE, 64)\n",
        "  (lstm): LSTM(64, 256, num_layers=2, batch_first=True)\n",
        "  (dropout_layer): Dropout(p=0.3, inplace=False)\n",
        "  (linear_layer): Linear(in_features=256, out_features=1, bias=True)\n",
        "  (sigmoid_layer): Sigmoid()\n",
        ")\n",
        "```"
      ],
      "metadata": {
        "id": "D2RgepLVT1mg"
      }
    },
    {
      "cell_type": "markdown",
      "source": [
        "On the off-chance that your notebook ever died mid-training, in the training section we've implemented a saving mechanism that saves your model to your Drive if it improves from the previous epoch.\n",
        "\n",
        "Just set the aptly names variable to `True` and run this cell. Remember to set it back to `False` afterwards."
      ],
      "metadata": {
        "id": "-MA_HOXOYCHy"
      }
    },
    {
      "cell_type": "code",
      "source": [
        "MY_NOTEBOOK_DIED_MID_TRAINING = False\n",
        "\n",
        "if MY_NOTEBOOK_DIED_MID_TRAINING:\n",
        "  model = torch.load('/content/drive/MyDrive/state_dict.pt')"
      ],
      "metadata": {
        "id": "6k0rFhpcS7JD"
      },
      "execution_count": null,
      "outputs": []
    },
    {
      "cell_type": "markdown",
      "metadata": {
        "id": "aVdOn9zDBrbQ"
      },
      "source": [
        "## **Training the Model**\n",
        "Now that we have our model, let's begin training it on our training data. The hyperparameters have been defined for you. You might notice that the number of epochs is quite low; this is because each epoch takes a pretty long time to run and a model trained with even 5 epochs would take over an hour to finish training.\n",
        "\n",
        "Since our model is a binary classifier trained to predict 0 and 1, we can use Binary Cross Entropy loss to measure the loss.\n",
        "\n",
        "Unlike in the first week's assignment, you will not need to explicitly update the parameters after each run of gradient descent, we have imported an optimizer that takes care of this.\n",
        "\n",
        "We have also given you a function `accuracy`, that takes as arguments the predictions generated by the model and the corresponding true values, and returns the accuracy.\n"
      ]
    },
    {
      "cell_type": "markdown",
      "source": [
        "\n",
        "Your task is to complete the rest of the cell and train the model.\n",
        "\n",
        "**Again, each epoch could take upto 15 minutes to run, so please be patient!**\n",
        "\n",
        "If your notebook ever dies mid-training, go to the cell below this one.\n",
        "<details>\n",
        "  <summary>What do model.train() and model.epoch do?</summary>\n",
        "  Checkout https://stackoverflow.com/questions/60018578/what-does-model-eval-do-in-pytorch\n",
        "</details>"
      ],
      "metadata": {
        "id": "waP6OQiNZYNt"
      }
    },
    {
      "cell_type": "code",
      "execution_count": null,
      "metadata": {
        "id": "Z49izPtgBrbQ",
        "colab": {
          "base_uri": "https://localhost:8080/"
        },
        "outputId": "de1da33e-4328-439c-b1d1-d2b529f4e2bf"
      },
      "outputs": [
        {
          "output_type": "stream",
          "name": "stderr",
          "text": [
            "\n",
            "Training:   0%|          | 0/625 [06:25<?, ?it/s]\n",
            "\n",
            "Training:   0%|          | 1/625 [00:02<23:55,  2.30s/it]\u001b[A\n",
            "Training:   0%|          | 2/625 [00:03<16:35,  1.60s/it]\u001b[A\n",
            "Training:   0%|          | 3/625 [00:03<11:45,  1.13s/it]\u001b[A\n",
            "Training:   1%|          | 4/625 [00:04<09:30,  1.09it/s]\u001b[A\n",
            "Training:   1%|          | 5/625 [00:05<08:13,  1.26it/s]\u001b[A\n",
            "Training:   1%|          | 6/625 [00:05<07:25,  1.39it/s]\u001b[A\n",
            "Training:   1%|          | 7/625 [00:06<06:49,  1.51it/s]\u001b[A\n",
            "Training:   1%|▏         | 8/625 [00:06<06:25,  1.60it/s]\u001b[A\n",
            "Training:   1%|▏         | 9/625 [00:07<06:09,  1.66it/s]\u001b[A\n",
            "Training:   2%|▏         | 10/625 [00:07<05:57,  1.72it/s]\u001b[A\n",
            "Training:   2%|▏         | 11/625 [00:08<05:50,  1.75it/s]\u001b[A\n",
            "Training:   2%|▏         | 12/625 [00:08<05:45,  1.77it/s]\u001b[A\n",
            "Training:   2%|▏         | 13/625 [00:09<05:40,  1.80it/s]\u001b[A\n",
            "Training:   2%|▏         | 14/625 [00:10<05:36,  1.81it/s]\u001b[A\n",
            "Training:   2%|▏         | 15/625 [00:10<05:33,  1.83it/s]\u001b[A\n",
            "Training:   3%|▎         | 16/625 [00:11<05:31,  1.84it/s]\u001b[A\n",
            "Training:   3%|▎         | 17/625 [00:11<05:30,  1.84it/s]\u001b[A\n",
            "Training:   3%|▎         | 18/625 [00:12<05:30,  1.84it/s]\u001b[A\n",
            "Training:   3%|▎         | 19/625 [00:12<05:27,  1.85it/s]\u001b[A\n",
            "Training:   3%|▎         | 20/625 [00:13<05:26,  1.85it/s]\u001b[A\n",
            "Training:   3%|▎         | 21/625 [00:14<06:01,  1.67it/s]\u001b[A\n",
            "Training:   4%|▎         | 22/625 [00:14<06:39,  1.51it/s]\u001b[A\n",
            "Training:   4%|▎         | 23/625 [00:15<07:07,  1.41it/s]\u001b[A\n",
            "Training:   4%|▍         | 24/625 [00:16<07:27,  1.34it/s]\u001b[A\n",
            "Training:   4%|▍         | 25/625 [00:17<07:38,  1.31it/s]\u001b[A\n",
            "Training:   4%|▍         | 26/625 [00:18<07:38,  1.31it/s]\u001b[A\n",
            "Training:   4%|▍         | 27/625 [00:18<07:00,  1.42it/s]\u001b[A\n",
            "Training:   4%|▍         | 28/625 [00:19<06:28,  1.54it/s]\u001b[A\n",
            "Training:   5%|▍         | 29/625 [00:19<06:06,  1.62it/s]\u001b[A\n",
            "Training:   5%|▍         | 30/625 [00:20<05:53,  1.68it/s]\u001b[A\n",
            "Training:   5%|▍         | 31/625 [00:20<05:42,  1.74it/s]\u001b[A\n",
            "Training:   5%|▌         | 32/625 [00:21<05:32,  1.78it/s]\u001b[A\n",
            "Training:   5%|▌         | 33/625 [00:21<05:35,  1.77it/s]\u001b[A\n",
            "Training:   5%|▌         | 34/625 [00:22<05:31,  1.79it/s]\u001b[A\n",
            "Training:   6%|▌         | 35/625 [00:22<05:28,  1.80it/s]\u001b[A\n",
            "Training:   6%|▌         | 36/625 [00:23<05:23,  1.82it/s]\u001b[A\n",
            "Training:   6%|▌         | 37/625 [00:24<05:21,  1.83it/s]\u001b[A\n",
            "Training:   6%|▌         | 38/625 [00:24<05:19,  1.84it/s]\u001b[A\n",
            "Training:   6%|▌         | 39/625 [00:25<05:20,  1.83it/s]\u001b[A\n",
            "Training:   6%|▋         | 40/625 [00:25<05:19,  1.83it/s]\u001b[A\n",
            "Training:   7%|▋         | 41/625 [00:26<05:16,  1.85it/s]\u001b[A\n",
            "Training:   7%|▋         | 42/625 [00:26<05:18,  1.83it/s]\u001b[A\n",
            "Training:   7%|▋         | 43/625 [00:27<05:17,  1.83it/s]\u001b[A\n",
            "Training:   7%|▋         | 44/625 [00:27<05:18,  1.82it/s]\u001b[A\n",
            "Training:   7%|▋         | 45/625 [00:28<05:54,  1.64it/s]\u001b[A\n",
            "Training:   7%|▋         | 46/625 [00:29<06:32,  1.48it/s]\u001b[A\n",
            "Training:   8%|▊         | 47/625 [00:30<06:56,  1.39it/s]\u001b[A\n",
            "Training:   8%|▊         | 48/625 [00:31<07:13,  1.33it/s]\u001b[A\n",
            "Training:   8%|▊         | 49/625 [00:31<07:21,  1.30it/s]\u001b[A\n",
            "Training:   8%|▊         | 50/625 [00:32<07:13,  1.33it/s]\u001b[A\n",
            "Training:   8%|▊         | 51/625 [00:33<06:42,  1.43it/s]\u001b[A\n",
            "Training:   8%|▊         | 52/625 [00:33<06:15,  1.53it/s]\u001b[A\n",
            "Training:   8%|▊         | 53/625 [00:34<05:56,  1.61it/s]\u001b[A\n",
            "Training:   9%|▊         | 54/625 [00:34<05:42,  1.67it/s]\u001b[A\n",
            "Training:   9%|▉         | 55/625 [00:35<05:29,  1.73it/s]\u001b[A\n",
            "Training:   9%|▉         | 56/625 [00:35<05:25,  1.75it/s]\u001b[A\n",
            "Training:   9%|▉         | 57/625 [00:36<05:22,  1.76it/s]\u001b[A\n",
            "Training:   9%|▉         | 58/625 [00:37<05:16,  1.79it/s]\u001b[A\n",
            "Training:   9%|▉         | 59/625 [00:37<05:10,  1.82it/s]\u001b[A\n",
            "Training:  10%|▉         | 60/625 [00:38<05:07,  1.84it/s]\u001b[A\n",
            "Training:  10%|▉         | 61/625 [00:38<05:05,  1.85it/s]\u001b[A\n",
            "Training:  10%|▉         | 62/625 [00:39<05:06,  1.84it/s]\u001b[A\n",
            "Training:  10%|█         | 63/625 [00:39<05:02,  1.85it/s]\u001b[A\n",
            "Training:  10%|█         | 64/625 [00:40<05:04,  1.84it/s]\u001b[A\n",
            "Training:  10%|█         | 65/625 [00:40<05:01,  1.86it/s]\u001b[A\n",
            "Training:  11%|█         | 66/625 [00:41<05:03,  1.84it/s]\u001b[A\n",
            "Training:  11%|█         | 67/625 [00:41<05:02,  1.85it/s]\u001b[A\n",
            "Training:  11%|█         | 68/625 [00:42<05:03,  1.84it/s]\u001b[A\n",
            "Training:  11%|█         | 69/625 [00:43<05:46,  1.60it/s]\u001b[A\n",
            "Training:  11%|█         | 70/625 [00:44<06:16,  1.48it/s]\u001b[A\n",
            "Training:  11%|█▏        | 71/625 [00:44<06:37,  1.39it/s]\u001b[A\n",
            "Training:  12%|█▏        | 72/625 [00:45<06:50,  1.35it/s]\u001b[A\n",
            "Training:  12%|█▏        | 73/625 [00:46<07:01,  1.31it/s]\u001b[A\n",
            "Training:  12%|█▏        | 74/625 [00:47<06:45,  1.36it/s]\u001b[A\n",
            "Training:  12%|█▏        | 75/625 [00:47<06:14,  1.47it/s]\u001b[A\n",
            "Training:  12%|█▏        | 76/625 [00:48<05:51,  1.56it/s]\u001b[A\n",
            "Training:  12%|█▏        | 77/625 [00:48<05:34,  1.64it/s]\u001b[A\n",
            "Training:  12%|█▏        | 78/625 [00:49<05:21,  1.70it/s]\u001b[A\n",
            "Training:  13%|█▎        | 79/625 [00:49<05:12,  1.75it/s]\u001b[A\n",
            "Training:  13%|█▎        | 80/625 [00:50<05:04,  1.79it/s]\u001b[A\n",
            "Training:  13%|█▎        | 81/625 [00:50<05:02,  1.80it/s]\u001b[A\n",
            "Training:  13%|█▎        | 82/625 [00:51<05:01,  1.80it/s]\u001b[A\n",
            "Training:  13%|█▎        | 83/625 [00:52<04:57,  1.82it/s]\u001b[A\n",
            "Training:  13%|█▎        | 84/625 [00:52<04:53,  1.84it/s]\u001b[A\n",
            "Training:  14%|█▎        | 85/625 [00:53<04:53,  1.84it/s]\u001b[A\n",
            "Training:  14%|█▍        | 86/625 [00:53<04:52,  1.84it/s]\u001b[A\n",
            "Training:  14%|█▍        | 87/625 [00:54<04:53,  1.83it/s]\u001b[A\n",
            "Training:  14%|█▍        | 88/625 [00:54<04:50,  1.85it/s]\u001b[A\n",
            "Training:  14%|█▍        | 89/625 [00:55<04:49,  1.85it/s]\u001b[A\n",
            "Training:  14%|█▍        | 90/625 [00:55<04:48,  1.85it/s]\u001b[A\n",
            "Training:  15%|█▍        | 91/625 [00:56<04:51,  1.83it/s]\u001b[A\n",
            "Training:  15%|█▍        | 92/625 [00:56<04:51,  1.83it/s]\u001b[A\n",
            "Training:  15%|█▍        | 93/625 [00:57<05:29,  1.61it/s]\u001b[A\n",
            "Training:  15%|█▌        | 94/625 [00:58<05:57,  1.48it/s]\u001b[A\n",
            "Training:  15%|█▌        | 95/625 [00:59<06:16,  1.41it/s]\u001b[A\n",
            "Training:  15%|█▌        | 96/625 [01:00<06:31,  1.35it/s]\u001b[A\n",
            "Training:  16%|█▌        | 97/625 [01:00<06:40,  1.32it/s]\u001b[A\n",
            "Training:  16%|█▌        | 98/625 [01:01<06:37,  1.33it/s]\u001b[A\n",
            "Training:  16%|█▌        | 99/625 [01:02<06:05,  1.44it/s]\u001b[A\n",
            "Training:  16%|█▌        | 100/625 [01:02<05:39,  1.55it/s]\u001b[A\n",
            "Training:  16%|█▌        | 101/625 [01:03<05:26,  1.61it/s]\u001b[A\n",
            "Training:  16%|█▋        | 102/625 [01:03<05:13,  1.67it/s]\u001b[A\n",
            "Training:  16%|█▋        | 103/625 [01:04<05:04,  1.71it/s]\u001b[A\n",
            "Training:  17%|█▋        | 104/625 [01:04<04:57,  1.75it/s]\u001b[A\n",
            "Training:  17%|█▋        | 105/625 [01:05<04:51,  1.78it/s]\u001b[A\n",
            "Training:  17%|█▋        | 106/625 [01:06<04:47,  1.81it/s]\u001b[A\n",
            "Training:  17%|█▋        | 107/625 [01:06<04:45,  1.81it/s]\u001b[A\n",
            "Training:  17%|█▋        | 108/625 [01:07<04:42,  1.83it/s]\u001b[A\n",
            "Training:  17%|█▋        | 109/625 [01:07<04:40,  1.84it/s]\u001b[A\n",
            "Training:  18%|█▊        | 110/625 [01:08<04:39,  1.84it/s]\u001b[A\n",
            "Training:  18%|█▊        | 111/625 [01:08<04:39,  1.84it/s]\u001b[A\n",
            "Training:  18%|█▊        | 112/625 [01:09<04:39,  1.83it/s]\u001b[A\n",
            "Training:  18%|█▊        | 113/625 [01:09<04:38,  1.84it/s]\u001b[A\n",
            "Training:  18%|█▊        | 114/625 [01:10<04:38,  1.83it/s]\u001b[A\n",
            "Training:  18%|█▊        | 115/625 [01:10<04:33,  1.86it/s]\u001b[A\n",
            "Training:  19%|█▊        | 116/625 [01:11<04:33,  1.86it/s]\u001b[A\n",
            "Training:  19%|█▊        | 117/625 [01:12<05:06,  1.66it/s]\u001b[A\n",
            "Training:  19%|█▉        | 118/625 [01:12<05:38,  1.50it/s]\u001b[A\n",
            "Training:  19%|█▉        | 119/625 [01:13<05:56,  1.42it/s]\u001b[A\n",
            "Training:  19%|█▉        | 120/625 [01:14<06:10,  1.36it/s]\u001b[A\n",
            "Training:  19%|█▉        | 121/625 [01:15<06:21,  1.32it/s]\u001b[A\n",
            "Training:  20%|█▉        | 122/625 [01:16<06:11,  1.35it/s]\u001b[A\n",
            "Training:  20%|█▉        | 123/625 [01:16<05:43,  1.46it/s]\u001b[A\n",
            "Training:  20%|█▉        | 124/625 [01:17<05:19,  1.57it/s]\u001b[A\n",
            "Training:  20%|██        | 125/625 [01:17<05:08,  1.62it/s]\u001b[A\n",
            "Training:  20%|██        | 126/625 [01:18<04:55,  1.69it/s]\u001b[A\n",
            "Training:  20%|██        | 127/625 [01:18<04:47,  1.73it/s]\u001b[A\n",
            "Training:  20%|██        | 128/625 [01:19<04:41,  1.77it/s]\u001b[A\n",
            "Training:  21%|██        | 129/625 [01:19<04:36,  1.80it/s]\u001b[A\n",
            "Training:  21%|██        | 130/625 [01:20<04:31,  1.82it/s]\u001b[A\n",
            "Training:  21%|██        | 131/625 [01:20<04:30,  1.83it/s]\u001b[A\n",
            "Training:  21%|██        | 132/625 [01:21<04:28,  1.84it/s]\u001b[A\n",
            "Training:  21%|██▏       | 133/625 [01:22<04:26,  1.85it/s]\u001b[A\n",
            "Training:  21%|██▏       | 134/625 [01:22<04:28,  1.83it/s]\u001b[A\n",
            "Training:  22%|██▏       | 135/625 [01:23<04:25,  1.84it/s]\u001b[A\n",
            "Training:  22%|██▏       | 136/625 [01:23<04:26,  1.84it/s]\u001b[A\n",
            "Training:  22%|██▏       | 137/625 [01:24<04:24,  1.85it/s]\u001b[A\n",
            "Training:  22%|██▏       | 138/625 [01:24<04:23,  1.85it/s]\u001b[A\n",
            "Training:  22%|██▏       | 139/625 [01:25<04:21,  1.86it/s]\u001b[A\n",
            "Training:  22%|██▏       | 140/625 [01:25<04:22,  1.85it/s]\u001b[A\n",
            "Training:  23%|██▎       | 141/625 [01:26<04:57,  1.63it/s]\u001b[A\n",
            "Training:  23%|██▎       | 142/625 [01:27<05:25,  1.49it/s]\u001b[A\n",
            "Training:  23%|██▎       | 143/625 [01:28<05:48,  1.38it/s]\u001b[A\n",
            "Training:  23%|██▎       | 144/625 [01:29<06:00,  1.33it/s]\u001b[A\n",
            "Training:  23%|██▎       | 145/625 [01:29<06:13,  1.28it/s]\u001b[A\n",
            "Training:  23%|██▎       | 146/625 [01:30<06:06,  1.31it/s]\u001b[A\n",
            "Training:  24%|██▎       | 147/625 [01:31<05:35,  1.43it/s]\u001b[A\n",
            "Training:  24%|██▎       | 148/625 [01:31<05:11,  1.53it/s]\u001b[A\n",
            "Training:  24%|██▍       | 149/625 [01:32<04:57,  1.60it/s]\u001b[A\n",
            "Training:  24%|██▍       | 150/625 [01:32<04:46,  1.66it/s]\u001b[A\n",
            "Training:  24%|██▍       | 151/625 [01:33<04:38,  1.70it/s]\u001b[A\n",
            "Training:  24%|██▍       | 152/625 [01:33<04:33,  1.73it/s]\u001b[A\n",
            "Training:  24%|██▍       | 153/625 [01:34<04:28,  1.76it/s]\u001b[A\n",
            "Training:  25%|██▍       | 154/625 [01:35<04:25,  1.77it/s]\u001b[A\n",
            "Training:  25%|██▍       | 155/625 [01:35<04:23,  1.78it/s]\u001b[A\n",
            "Training:  25%|██▍       | 156/625 [01:36<04:21,  1.79it/s]\u001b[A\n",
            "Training:  25%|██▌       | 157/625 [01:36<04:20,  1.80it/s]\u001b[A\n",
            "Training:  25%|██▌       | 158/625 [01:37<04:19,  1.80it/s]\u001b[A\n",
            "Training:  25%|██▌       | 159/625 [01:37<04:20,  1.79it/s]\u001b[A\n",
            "Training:  26%|██▌       | 160/625 [01:38<04:20,  1.79it/s]\u001b[A\n",
            "Training:  26%|██▌       | 161/625 [01:38<04:17,  1.80it/s]\u001b[A\n",
            "Training:  26%|██▌       | 162/625 [01:39<04:16,  1.80it/s]\u001b[A\n",
            "Training:  26%|██▌       | 163/625 [01:40<04:13,  1.82it/s]\u001b[A\n",
            "Training:  26%|██▌       | 164/625 [01:40<04:20,  1.77it/s]\u001b[A\n",
            "Training:  26%|██▋       | 165/625 [01:41<04:53,  1.57it/s]\u001b[A\n",
            "Training:  27%|██▋       | 166/625 [01:42<05:19,  1.43it/s]\u001b[A\n",
            "Training:  27%|██▋       | 167/625 [01:43<05:33,  1.37it/s]\u001b[A\n",
            "Training:  27%|██▋       | 168/625 [01:43<05:45,  1.32it/s]\u001b[A\n",
            "Training:  27%|██▋       | 169/625 [01:44<05:53,  1.29it/s]\u001b[A\n",
            "Training:  27%|██▋       | 170/625 [01:45<05:33,  1.37it/s]\u001b[A\n",
            "Training:  27%|██▋       | 171/625 [01:45<05:06,  1.48it/s]\u001b[A\n",
            "Training:  28%|██▊       | 172/625 [01:46<04:51,  1.55it/s]\u001b[A\n",
            "Training:  28%|██▊       | 173/625 [01:47<04:36,  1.63it/s]\u001b[A\n",
            "Training:  28%|██▊       | 174/625 [01:47<04:28,  1.68it/s]\u001b[A\n",
            "Training:  28%|██▊       | 175/625 [01:48<04:20,  1.73it/s]\u001b[A\n",
            "Training:  28%|██▊       | 176/625 [01:48<04:15,  1.76it/s]\u001b[A\n",
            "Training:  28%|██▊       | 177/625 [01:49<04:11,  1.78it/s]\u001b[A\n",
            "Training:  28%|██▊       | 178/625 [01:49<04:09,  1.79it/s]\u001b[A\n",
            "Training:  29%|██▊       | 179/625 [01:50<04:06,  1.81it/s]\u001b[A\n",
            "Training:  29%|██▉       | 180/625 [01:50<04:06,  1.80it/s]\u001b[A\n",
            "Training:  29%|██▉       | 181/625 [01:51<04:03,  1.82it/s]\u001b[A\n",
            "Training:  29%|██▉       | 182/625 [01:51<04:02,  1.83it/s]\u001b[A\n",
            "Training:  29%|██▉       | 183/625 [01:52<03:59,  1.85it/s]\u001b[A\n",
            "Training:  29%|██▉       | 184/625 [01:53<04:00,  1.84it/s]\u001b[A\n",
            "Training:  30%|██▉       | 185/625 [01:53<03:57,  1.85it/s]\u001b[A\n",
            "Training:  30%|██▉       | 186/625 [01:54<03:57,  1.85it/s]\u001b[A\n",
            "Training:  30%|██▉       | 187/625 [01:54<03:57,  1.84it/s]\u001b[A\n",
            "Training:  30%|███       | 188/625 [01:55<04:02,  1.80it/s]\u001b[A\n",
            "Training:  30%|███       | 189/625 [01:56<04:37,  1.57it/s]\u001b[A\n",
            "Training:  30%|███       | 190/625 [01:56<04:57,  1.46it/s]\u001b[A\n",
            "Training:  31%|███       | 191/625 [01:57<05:13,  1.39it/s]\u001b[A\n",
            "Training:  31%|███       | 192/625 [01:58<05:23,  1.34it/s]\u001b[A\n",
            "Training:  31%|███       | 193/625 [01:59<05:29,  1.31it/s]\u001b[A\n",
            "Training:  31%|███       | 194/625 [01:59<05:09,  1.39it/s]\u001b[A\n",
            "Training:  31%|███       | 195/625 [02:00<04:44,  1.51it/s]\u001b[A\n",
            "Training:  31%|███▏      | 196/625 [02:00<04:29,  1.59it/s]\u001b[A\n",
            "Training:  32%|███▏      | 197/625 [02:01<04:14,  1.68it/s]\u001b[A\n",
            "Training:  32%|███▏      | 198/625 [02:01<04:06,  1.73it/s]\u001b[A\n",
            "Training:  32%|███▏      | 199/625 [02:02<03:59,  1.78it/s]\u001b[A\n",
            "Training:  32%|███▏      | 200/625 [02:03<03:54,  1.81it/s]\u001b[A\n",
            "Training:  32%|███▏      | 201/625 [02:03<03:50,  1.84it/s]\u001b[A\n",
            "Training:  32%|███▏      | 202/625 [02:04<03:48,  1.85it/s]\u001b[A\n",
            "Training:  32%|███▏      | 203/625 [02:04<03:47,  1.86it/s]\u001b[A\n",
            "Training:  33%|███▎      | 204/625 [02:05<03:45,  1.87it/s]\u001b[A\n",
            "Training:  33%|███▎      | 205/625 [02:05<03:44,  1.87it/s]\u001b[A\n",
            "Training:  33%|███▎      | 206/625 [02:06<03:44,  1.87it/s]\u001b[A\n",
            "Training:  33%|███▎      | 207/625 [02:06<03:41,  1.89it/s]\u001b[A\n",
            "Training:  33%|███▎      | 208/625 [02:07<03:41,  1.88it/s]\u001b[A\n",
            "Training:  33%|███▎      | 209/625 [02:07<03:40,  1.88it/s]\u001b[A\n",
            "Training:  34%|███▎      | 210/625 [02:08<03:40,  1.88it/s]\u001b[A\n",
            "Training:  34%|███▍      | 211/625 [02:08<03:39,  1.89it/s]\u001b[A\n",
            "Training:  34%|███▍      | 212/625 [02:09<03:38,  1.89it/s]\u001b[A\n",
            "Training:  34%|███▍      | 213/625 [02:10<04:06,  1.67it/s]\u001b[A\n",
            "Training:  34%|███▍      | 214/625 [02:10<04:30,  1.52it/s]\u001b[A\n",
            "Training:  34%|███▍      | 215/625 [02:11<04:50,  1.41it/s]\u001b[A\n",
            "Training:  35%|███▍      | 216/625 [02:12<05:04,  1.34it/s]\u001b[A\n",
            "Training:  35%|███▍      | 217/625 [02:13<05:12,  1.31it/s]\u001b[A\n",
            "Training:  35%|███▍      | 218/625 [02:14<05:06,  1.33it/s]\u001b[A\n",
            "Training:  35%|███▌      | 219/625 [02:14<04:39,  1.45it/s]\u001b[A\n",
            "Training:  35%|███▌      | 220/625 [02:15<04:19,  1.56it/s]\u001b[A\n",
            "Training:  35%|███▌      | 221/625 [02:15<04:06,  1.64it/s]\u001b[A\n",
            "Training:  36%|███▌      | 222/625 [02:16<03:55,  1.71it/s]\u001b[A\n",
            "Training:  36%|███▌      | 223/625 [02:16<03:52,  1.73it/s]\u001b[A\n",
            "Training:  36%|███▌      | 224/625 [02:17<03:46,  1.77it/s]\u001b[A\n",
            "Training:  36%|███▌      | 225/625 [02:17<03:41,  1.80it/s]\u001b[A\n",
            "Training:  36%|███▌      | 226/625 [02:18<03:37,  1.84it/s]\u001b[A\n",
            "Training:  36%|███▋      | 227/625 [02:18<03:37,  1.83it/s]\u001b[A\n",
            "Training:  36%|███▋      | 228/625 [02:19<03:36,  1.84it/s]\u001b[A\n",
            "Training:  37%|███▋      | 229/625 [02:20<03:35,  1.84it/s]\u001b[A\n",
            "Training:  37%|███▋      | 230/625 [02:20<03:35,  1.84it/s]\u001b[A\n",
            "Training:  37%|███▋      | 231/625 [02:21<03:34,  1.83it/s]\u001b[A\n",
            "Training:  37%|███▋      | 232/625 [02:21<03:33,  1.84it/s]\u001b[A\n",
            "Training:  37%|███▋      | 233/625 [02:22<03:32,  1.84it/s]\u001b[A\n",
            "Training:  37%|███▋      | 234/625 [02:22<03:34,  1.83it/s]\u001b[A\n",
            "Training:  38%|███▊      | 235/625 [02:23<03:30,  1.86it/s]\u001b[A\n",
            "Training:  38%|███▊      | 236/625 [02:23<03:31,  1.84it/s]\u001b[A\n",
            "Training:  38%|███▊      | 237/625 [02:24<03:52,  1.67it/s]\u001b[A\n",
            "Training:  38%|███▊      | 238/625 [02:25<04:14,  1.52it/s]\u001b[A\n",
            "Training:  38%|███▊      | 239/625 [02:26<04:32,  1.41it/s]\u001b[A\n",
            "Training:  38%|███▊      | 240/625 [02:27<04:43,  1.36it/s]\u001b[A\n",
            "Training:  39%|███▊      | 241/625 [02:27<04:49,  1.33it/s]\u001b[A\n",
            "Training:  39%|███▊      | 242/625 [02:28<04:57,  1.29it/s]\u001b[A\n",
            "Training:  39%|███▉      | 243/625 [02:29<04:29,  1.42it/s]\u001b[A\n",
            "Training:  39%|███▉      | 244/625 [02:29<04:09,  1.53it/s]\u001b[A\n",
            "Training:  39%|███▉      | 245/625 [02:30<03:56,  1.61it/s]\u001b[A\n",
            "Training:  39%|███▉      | 246/625 [02:30<03:46,  1.68it/s]\u001b[A\n",
            "Training:  40%|███▉      | 247/625 [02:31<03:39,  1.72it/s]\u001b[A\n",
            "Training:  40%|███▉      | 248/625 [02:31<03:34,  1.76it/s]\u001b[A\n",
            "Training:  40%|███▉      | 249/625 [02:32<03:30,  1.79it/s]\u001b[A\n",
            "Training:  40%|████      | 250/625 [02:32<03:27,  1.81it/s]\u001b[A\n",
            "Training:  40%|████      | 251/625 [02:33<03:25,  1.82it/s]\u001b[A\n",
            "Training:  40%|████      | 252/625 [02:34<03:24,  1.83it/s]\u001b[A\n",
            "Training:  40%|████      | 253/625 [02:34<03:23,  1.83it/s]\u001b[A\n",
            "Training:  41%|████      | 254/625 [02:35<03:23,  1.82it/s]\u001b[A\n",
            "Training:  41%|████      | 255/625 [02:35<03:21,  1.84it/s]\u001b[A\n",
            "Training:  41%|████      | 256/625 [02:36<03:21,  1.83it/s]\u001b[A\n",
            "Training:  41%|████      | 257/625 [02:36<03:20,  1.84it/s]\u001b[A\n",
            "Training:  41%|████▏     | 258/625 [02:37<03:19,  1.84it/s]\u001b[A\n",
            "Training:  41%|████▏     | 259/625 [02:37<03:18,  1.84it/s]\u001b[A\n",
            "Training:  42%|████▏     | 260/625 [02:38<03:17,  1.84it/s]\u001b[A\n",
            "Training:  42%|████▏     | 261/625 [02:39<03:31,  1.72it/s]\u001b[A\n",
            "Training:  42%|████▏     | 262/625 [02:39<03:55,  1.54it/s]\u001b[A\n",
            "Training:  42%|████▏     | 263/625 [02:40<04:10,  1.44it/s]\u001b[A\n",
            "Training:  42%|████▏     | 264/625 [02:41<04:22,  1.37it/s]\u001b[A\n",
            "Training:  42%|████▏     | 265/625 [02:42<04:28,  1.34it/s]\u001b[A\n",
            "Training:  43%|████▎     | 266/625 [02:43<04:34,  1.31it/s]\u001b[A\n",
            "Training:  43%|████▎     | 267/625 [02:43<04:18,  1.39it/s]\u001b[A\n",
            "Training:  43%|████▎     | 268/625 [02:44<03:57,  1.50it/s]\u001b[A\n",
            "Training:  43%|████▎     | 269/625 [02:44<03:44,  1.59it/s]\u001b[A\n",
            "Training:  43%|████▎     | 270/625 [02:45<03:33,  1.66it/s]\u001b[A\n",
            "Training:  43%|████▎     | 271/625 [02:45<03:27,  1.71it/s]\u001b[A\n",
            "Training:  44%|████▎     | 272/625 [02:46<03:23,  1.74it/s]\u001b[A\n",
            "Training:  44%|████▎     | 273/625 [02:46<03:22,  1.74it/s]\u001b[A\n",
            "Training:  44%|████▍     | 274/625 [02:47<03:18,  1.76it/s]\u001b[A\n",
            "Training:  44%|████▍     | 275/625 [02:48<03:15,  1.79it/s]\u001b[A\n",
            "Training:  44%|████▍     | 276/625 [02:48<03:13,  1.81it/s]\u001b[A\n",
            "Training:  44%|████▍     | 277/625 [02:49<03:09,  1.83it/s]\u001b[A\n",
            "Training:  44%|████▍     | 278/625 [02:49<03:09,  1.83it/s]\u001b[A\n",
            "Training:  45%|████▍     | 279/625 [02:50<03:07,  1.84it/s]\u001b[A\n",
            "Training:  45%|████▍     | 280/625 [02:50<03:06,  1.85it/s]\u001b[A\n",
            "Training:  45%|████▍     | 281/625 [02:51<03:05,  1.85it/s]\u001b[A\n",
            "Training:  45%|████▌     | 282/625 [02:51<03:05,  1.85it/s]\u001b[A\n",
            "Training:  45%|████▌     | 283/625 [02:52<03:06,  1.83it/s]\u001b[A\n",
            "Training:  45%|████▌     | 284/625 [02:52<03:05,  1.84it/s]\u001b[A\n",
            "Training:  46%|████▌     | 285/625 [02:53<03:11,  1.77it/s]\u001b[A\n",
            "Training:  46%|████▌     | 286/625 [02:54<03:37,  1.56it/s]\u001b[A\n",
            "Training:  46%|████▌     | 287/625 [02:55<03:53,  1.45it/s]\u001b[A\n",
            "Training:  46%|████▌     | 288/625 [02:55<04:02,  1.39it/s]\u001b[A\n",
            "Training:  46%|████▌     | 289/625 [02:56<04:10,  1.34it/s]\u001b[A\n",
            "Training:  46%|████▋     | 290/625 [02:57<04:15,  1.31it/s]\u001b[A\n",
            "Training:  47%|████▋     | 291/625 [02:58<04:04,  1.37it/s]\u001b[A\n",
            "Training:  47%|████▋     | 292/625 [02:58<03:42,  1.49it/s]\u001b[A\n",
            "Training:  47%|████▋     | 293/625 [02:59<03:30,  1.58it/s]\u001b[A\n",
            "Training:  47%|████▋     | 294/625 [02:59<03:20,  1.65it/s]\u001b[A\n",
            "Training:  47%|████▋     | 295/625 [03:00<03:13,  1.71it/s]\u001b[A\n",
            "Training:  47%|████▋     | 296/625 [03:00<03:05,  1.77it/s]\u001b[A\n",
            "Training:  48%|████▊     | 297/625 [03:01<03:02,  1.80it/s]\u001b[A\n",
            "Training:  48%|████▊     | 298/625 [03:01<02:59,  1.82it/s]\u001b[A\n",
            "Training:  48%|████▊     | 299/625 [03:02<02:57,  1.84it/s]\u001b[A\n",
            "Training:  48%|████▊     | 300/625 [03:03<02:55,  1.85it/s]\u001b[A\n",
            "Training:  48%|████▊     | 301/625 [03:03<02:53,  1.87it/s]\u001b[A\n",
            "Training:  48%|████▊     | 302/625 [03:04<02:54,  1.85it/s]\u001b[A\n",
            "Training:  48%|████▊     | 303/625 [03:04<02:53,  1.86it/s]\u001b[A\n",
            "Training:  49%|████▊     | 304/625 [03:05<02:54,  1.84it/s]\u001b[A\n",
            "Training:  49%|████▉     | 305/625 [03:05<02:51,  1.87it/s]\u001b[A\n",
            "Training:  49%|████▉     | 306/625 [03:06<02:51,  1.87it/s]\u001b[A\n",
            "Training:  49%|████▉     | 307/625 [03:06<02:48,  1.89it/s]\u001b[A\n",
            "Training:  49%|████▉     | 308/625 [03:07<02:49,  1.87it/s]\u001b[A\n",
            "Training:  49%|████▉     | 309/625 [03:07<02:49,  1.87it/s]\u001b[A\n",
            "Training:  50%|████▉     | 310/625 [03:08<03:08,  1.67it/s]\u001b[A\n",
            "Training:  50%|████▉     | 311/625 [03:09<03:27,  1.52it/s]\u001b[A\n",
            "Training:  50%|████▉     | 312/625 [03:10<03:39,  1.43it/s]\u001b[A\n",
            "Training:  50%|█████     | 313/625 [03:10<03:47,  1.37it/s]\u001b[A\n",
            "Training:  50%|█████     | 314/625 [03:11<03:55,  1.32it/s]\u001b[A\n",
            "Training:  50%|█████     | 315/625 [03:12<03:58,  1.30it/s]\u001b[A\n",
            "Training:  51%|█████     | 316/625 [03:13<03:35,  1.43it/s]\u001b[A\n",
            "Training:  51%|█████     | 317/625 [03:13<03:20,  1.53it/s]\u001b[A\n",
            "Training:  51%|█████     | 318/625 [03:14<03:10,  1.62it/s]\u001b[A\n",
            "Training:  51%|█████     | 319/625 [03:14<03:02,  1.68it/s]\u001b[A\n",
            "Training:  51%|█████     | 320/625 [03:15<02:55,  1.74it/s]\u001b[A\n",
            "Training:  51%|█████▏    | 321/625 [03:15<02:51,  1.77it/s]\u001b[A\n",
            "Training:  52%|█████▏    | 322/625 [03:16<02:48,  1.80it/s]\u001b[A\n",
            "Training:  52%|█████▏    | 323/625 [03:16<02:46,  1.82it/s]\u001b[A\n",
            "Training:  52%|█████▏    | 324/625 [03:17<02:46,  1.81it/s]\u001b[A\n",
            "Training:  52%|█████▏    | 325/625 [03:18<02:45,  1.82it/s]\u001b[A\n",
            "Training:  52%|█████▏    | 326/625 [03:18<02:45,  1.81it/s]\u001b[A\n",
            "Training:  52%|█████▏    | 327/625 [03:19<02:42,  1.83it/s]\u001b[A\n",
            "Training:  52%|█████▏    | 328/625 [03:19<02:42,  1.83it/s]\u001b[A\n",
            "Training:  53%|█████▎    | 329/625 [03:20<02:43,  1.81it/s]\u001b[A\n",
            "Training:  53%|█████▎    | 330/625 [03:20<02:41,  1.82it/s]\u001b[A\n",
            "Training:  53%|█████▎    | 331/625 [03:21<02:39,  1.85it/s]\u001b[A\n",
            "Training:  53%|█████▎    | 332/625 [03:21<02:37,  1.86it/s]\u001b[A\n",
            "Training:  53%|█████▎    | 333/625 [03:22<02:37,  1.86it/s]\u001b[A\n",
            "Training:  53%|█████▎    | 334/625 [03:23<02:50,  1.71it/s]\u001b[A\n",
            "Training:  54%|█████▎    | 335/625 [03:23<03:07,  1.54it/s]\u001b[A\n",
            "Training:  54%|█████▍    | 336/625 [03:24<03:20,  1.44it/s]\u001b[A\n",
            "Training:  54%|█████▍    | 337/625 [03:25<03:27,  1.39it/s]\u001b[A\n",
            "Training:  54%|█████▍    | 338/625 [03:26<03:32,  1.35it/s]\u001b[A\n",
            "Training:  54%|█████▍    | 339/625 [03:26<03:34,  1.33it/s]\u001b[A\n",
            "Training:  54%|█████▍    | 340/625 [03:27<03:21,  1.42it/s]\u001b[A\n",
            "Training:  55%|█████▍    | 341/625 [03:28<03:06,  1.53it/s]\u001b[A\n",
            "Training:  55%|█████▍    | 342/625 [03:28<02:55,  1.61it/s]\u001b[A\n",
            "Training:  55%|█████▍    | 343/625 [03:29<02:47,  1.68it/s]\u001b[A\n",
            "Training:  55%|█████▌    | 344/625 [03:29<02:41,  1.74it/s]\u001b[A\n",
            "Training:  55%|█████▌    | 345/625 [03:30<02:38,  1.77it/s]\u001b[A\n",
            "Training:  55%|█████▌    | 346/625 [03:30<02:34,  1.80it/s]\u001b[A\n",
            "Training:  56%|█████▌    | 347/625 [03:31<02:32,  1.82it/s]\u001b[A\n",
            "Training:  56%|█████▌    | 348/625 [03:31<02:29,  1.85it/s]\u001b[A\n",
            "Training:  56%|█████▌    | 349/625 [03:32<02:28,  1.85it/s]\u001b[A\n",
            "Training:  56%|█████▌    | 350/625 [03:32<02:28,  1.85it/s]\u001b[A\n",
            "Training:  56%|█████▌    | 351/625 [03:33<02:28,  1.85it/s]\u001b[A\n",
            "Training:  56%|█████▋    | 352/625 [03:34<02:28,  1.84it/s]\u001b[A\n",
            "Training:  56%|█████▋    | 353/625 [03:34<02:27,  1.85it/s]\u001b[A\n",
            "Training:  57%|█████▋    | 354/625 [03:35<02:26,  1.85it/s]\u001b[A\n",
            "Training:  57%|█████▋    | 355/625 [03:35<02:26,  1.85it/s]\u001b[A\n",
            "Training:  57%|█████▋    | 356/625 [03:36<02:27,  1.82it/s]\u001b[A\n",
            "Training:  57%|█████▋    | 357/625 [03:36<02:25,  1.84it/s]\u001b[A\n",
            "Training:  57%|█████▋    | 358/625 [03:37<02:27,  1.81it/s]\u001b[A\n",
            "Training:  57%|█████▋    | 359/625 [03:38<02:46,  1.60it/s]\u001b[A\n",
            "Training:  58%|█████▊    | 360/625 [03:38<03:01,  1.46it/s]\u001b[A\n",
            "Training:  58%|█████▊    | 361/625 [03:39<03:09,  1.40it/s]\u001b[A\n",
            "Training:  58%|█████▊    | 362/625 [03:40<03:16,  1.34it/s]\u001b[A\n",
            "Training:  58%|█████▊    | 363/625 [03:41<03:22,  1.30it/s]\u001b[A\n",
            "Training:  58%|█████▊    | 364/625 [03:42<03:15,  1.34it/s]\u001b[A\n",
            "Training:  58%|█████▊    | 365/625 [03:42<02:57,  1.46it/s]\u001b[A\n",
            "Training:  59%|█████▊    | 366/625 [03:43<02:44,  1.57it/s]\u001b[A\n",
            "Training:  59%|█████▊    | 367/625 [03:43<02:37,  1.64it/s]\u001b[A\n",
            "Training:  59%|█████▉    | 368/625 [03:44<02:30,  1.71it/s]\u001b[A\n",
            "Training:  59%|█████▉    | 369/625 [03:44<02:25,  1.75it/s]\u001b[A\n",
            "Training:  59%|█████▉    | 370/625 [03:45<02:22,  1.79it/s]\u001b[A\n",
            "Training:  59%|█████▉    | 371/625 [03:45<02:21,  1.79it/s]\u001b[A\n",
            "Training:  60%|█████▉    | 372/625 [03:46<02:18,  1.82it/s]\u001b[A\n",
            "Training:  60%|█████▉    | 373/625 [03:46<02:18,  1.83it/s]\u001b[A\n",
            "Training:  60%|█████▉    | 374/625 [03:47<02:16,  1.84it/s]\u001b[A\n",
            "Training:  60%|██████    | 375/625 [03:47<02:15,  1.85it/s]\u001b[A\n",
            "Training:  60%|██████    | 376/625 [03:48<02:14,  1.86it/s]\u001b[A\n",
            "Training:  60%|██████    | 377/625 [03:49<02:13,  1.86it/s]\u001b[A\n",
            "Training:  60%|██████    | 378/625 [03:49<02:14,  1.84it/s]\u001b[A\n",
            "Training:  61%|██████    | 379/625 [03:50<02:12,  1.85it/s]\u001b[A\n",
            "Training:  61%|██████    | 380/625 [03:50<02:13,  1.84it/s]\u001b[A\n",
            "Training:  61%|██████    | 381/625 [03:51<02:12,  1.85it/s]\u001b[A\n",
            "Training:  61%|██████    | 382/625 [03:51<02:11,  1.85it/s]\u001b[A\n",
            "Training:  61%|██████▏   | 383/625 [03:52<02:25,  1.66it/s]\u001b[A\n",
            "Training:  61%|██████▏   | 384/625 [03:53<02:38,  1.52it/s]\u001b[A\n",
            "Training:  62%|██████▏   | 385/625 [03:54<02:49,  1.41it/s]\u001b[A\n",
            "Training:  62%|██████▏   | 386/625 [03:54<02:56,  1.35it/s]\u001b[A\n",
            "Training:  62%|██████▏   | 387/625 [03:55<03:02,  1.31it/s]\u001b[A\n",
            "Training:  62%|██████▏   | 388/625 [03:56<03:01,  1.30it/s]\u001b[A\n",
            "Training:  62%|██████▏   | 389/625 [03:57<02:45,  1.43it/s]\u001b[A\n",
            "Training:  62%|██████▏   | 390/625 [03:57<02:32,  1.54it/s]\u001b[A\n",
            "Training:  63%|██████▎   | 391/625 [03:58<02:25,  1.61it/s]\u001b[A\n",
            "Training:  63%|██████▎   | 392/625 [03:58<02:18,  1.68it/s]\u001b[A\n",
            "Training:  63%|██████▎   | 393/625 [03:59<02:14,  1.73it/s]\u001b[A\n",
            "Training:  63%|██████▎   | 394/625 [03:59<02:10,  1.77it/s]\u001b[A\n",
            "Training:  63%|██████▎   | 395/625 [04:00<02:09,  1.77it/s]\u001b[A\n",
            "Training:  63%|██████▎   | 396/625 [04:00<02:07,  1.80it/s]\u001b[A\n",
            "Training:  64%|██████▎   | 397/625 [04:01<02:06,  1.80it/s]\u001b[A\n",
            "Training:  64%|██████▎   | 398/625 [04:01<02:05,  1.82it/s]\u001b[A\n",
            "Training:  64%|██████▍   | 399/625 [04:02<02:03,  1.83it/s]\u001b[A\n",
            "Training:  64%|██████▍   | 400/625 [04:03<02:03,  1.83it/s]\u001b[A\n",
            "Training:  64%|██████▍   | 401/625 [04:03<02:01,  1.84it/s]\u001b[A\n",
            "Training:  64%|██████▍   | 402/625 [04:04<02:01,  1.83it/s]\u001b[A\n",
            "Training:  64%|██████▍   | 403/625 [04:04<02:00,  1.84it/s]\u001b[A\n",
            "Training:  65%|██████▍   | 404/625 [04:05<01:59,  1.84it/s]\u001b[A\n",
            "Training:  65%|██████▍   | 405/625 [04:05<01:59,  1.84it/s]\u001b[A\n",
            "Training:  65%|██████▍   | 406/625 [04:06<01:59,  1.83it/s]\u001b[A\n",
            "Training:  65%|██████▌   | 407/625 [04:07<02:12,  1.64it/s]\u001b[A\n",
            "Training:  65%|██████▌   | 408/625 [04:07<02:25,  1.50it/s]\u001b[A\n",
            "Training:  65%|██████▌   | 409/625 [04:08<02:33,  1.41it/s]\u001b[A\n",
            "Training:  66%|██████▌   | 410/625 [04:09<02:37,  1.36it/s]\u001b[A\n",
            "Training:  66%|██████▌   | 411/625 [04:10<02:41,  1.32it/s]\u001b[A\n",
            "Training:  66%|██████▌   | 412/625 [04:11<02:44,  1.29it/s]\u001b[A\n",
            "Training:  66%|██████▌   | 413/625 [04:11<02:29,  1.42it/s]\u001b[A\n",
            "Training:  66%|██████▌   | 414/625 [04:12<02:17,  1.53it/s]\u001b[A\n",
            "Training:  66%|██████▋   | 415/625 [04:12<02:11,  1.60it/s]\u001b[A\n",
            "Training:  67%|██████▋   | 416/625 [04:13<02:05,  1.67it/s]\u001b[A\n",
            "Training:  67%|██████▋   | 417/625 [04:13<02:01,  1.71it/s]\u001b[A\n",
            "Training:  67%|██████▋   | 418/625 [04:14<01:59,  1.74it/s]\u001b[A\n",
            "Training:  67%|██████▋   | 419/625 [04:14<01:57,  1.75it/s]\u001b[A\n",
            "Training:  67%|██████▋   | 420/625 [04:15<01:55,  1.77it/s]\u001b[A\n",
            "Training:  67%|██████▋   | 421/625 [04:16<01:54,  1.78it/s]\u001b[A\n",
            "Training:  68%|██████▊   | 422/625 [04:16<01:54,  1.78it/s]\u001b[A\n",
            "Training:  68%|██████▊   | 423/625 [04:17<01:52,  1.80it/s]\u001b[A\n",
            "Training:  68%|██████▊   | 424/625 [04:17<01:52,  1.79it/s]\u001b[A\n",
            "Training:  68%|██████▊   | 425/625 [04:18<01:51,  1.80it/s]\u001b[A\n",
            "Training:  68%|██████▊   | 426/625 [04:18<01:51,  1.79it/s]\u001b[A\n",
            "Training:  68%|██████▊   | 427/625 [04:19<01:49,  1.81it/s]\u001b[A\n",
            "Training:  68%|██████▊   | 428/625 [04:19<01:49,  1.79it/s]\u001b[A\n",
            "Training:  69%|██████▊   | 429/625 [04:20<01:48,  1.81it/s]\u001b[A\n",
            "Training:  69%|██████▉   | 430/625 [04:21<01:47,  1.81it/s]\u001b[A\n",
            "Training:  69%|██████▉   | 431/625 [04:21<02:01,  1.59it/s]\u001b[A\n",
            "Training:  69%|██████▉   | 432/625 [04:22<02:10,  1.48it/s]\u001b[A\n",
            "Training:  69%|██████▉   | 433/625 [04:23<02:17,  1.40it/s]\u001b[A\n",
            "Training:  69%|██████▉   | 434/625 [04:24<02:21,  1.35it/s]\u001b[A\n",
            "Training:  70%|██████▉   | 435/625 [04:25<02:24,  1.31it/s]\u001b[A\n",
            "Training:  70%|██████▉   | 436/625 [04:25<02:26,  1.29it/s]\u001b[A\n",
            "Training:  70%|██████▉   | 437/625 [04:26<02:12,  1.42it/s]\u001b[A\n",
            "Training:  70%|███████   | 438/625 [04:26<02:03,  1.51it/s]\u001b[A\n",
            "Training:  70%|███████   | 439/625 [04:27<01:56,  1.59it/s]\u001b[A\n",
            "Training:  70%|███████   | 440/625 [04:28<01:53,  1.64it/s]\u001b[A\n",
            "Training:  71%|███████   | 441/625 [04:28<01:49,  1.67it/s]\u001b[A\n",
            "Training:  71%|███████   | 442/625 [04:29<01:47,  1.71it/s]\u001b[A\n",
            "Training:  71%|███████   | 443/625 [04:29<01:43,  1.76it/s]\u001b[A\n",
            "Training:  71%|███████   | 444/625 [04:30<01:41,  1.78it/s]\u001b[A\n",
            "Training:  71%|███████   | 445/625 [04:30<01:40,  1.80it/s]\u001b[A\n",
            "Training:  71%|███████▏  | 446/625 [04:31<01:38,  1.81it/s]\u001b[A\n",
            "Training:  72%|███████▏  | 447/625 [04:31<01:37,  1.82it/s]\u001b[A\n",
            "Training:  72%|███████▏  | 448/625 [04:32<01:36,  1.84it/s]\u001b[A\n",
            "Training:  72%|███████▏  | 449/625 [04:32<01:35,  1.85it/s]\u001b[A\n",
            "Training:  72%|███████▏  | 450/625 [04:33<01:35,  1.84it/s]\u001b[A\n",
            "Training:  72%|███████▏  | 451/625 [04:34<01:34,  1.84it/s]\u001b[A\n",
            "Training:  72%|███████▏  | 452/625 [04:34<01:33,  1.84it/s]\u001b[A\n",
            "Training:  72%|███████▏  | 453/625 [04:35<01:32,  1.86it/s]\u001b[A\n",
            "Training:  73%|███████▎  | 454/625 [04:35<01:32,  1.85it/s]\u001b[A\n",
            "Training:  73%|███████▎  | 455/625 [04:36<01:40,  1.70it/s]\u001b[A\n",
            "Training:  73%|███████▎  | 456/625 [04:37<01:49,  1.54it/s]\u001b[A\n",
            "Training:  73%|███████▎  | 457/625 [04:37<01:56,  1.44it/s]\u001b[A\n",
            "Training:  73%|███████▎  | 458/625 [04:38<02:00,  1.39it/s]\u001b[A\n",
            "Training:  73%|███████▎  | 459/625 [04:39<02:04,  1.33it/s]\u001b[A\n",
            "Training:  74%|███████▎  | 460/625 [04:40<02:06,  1.30it/s]\u001b[A\n",
            "Training:  74%|███████▍  | 461/625 [04:40<01:56,  1.41it/s]\u001b[A\n",
            "Training:  74%|███████▍  | 462/625 [04:41<01:46,  1.53it/s]\u001b[A\n",
            "Training:  74%|███████▍  | 463/625 [04:41<01:41,  1.60it/s]\u001b[A\n",
            "Training:  74%|███████▍  | 464/625 [04:42<01:36,  1.66it/s]\u001b[A\n",
            "Training:  74%|███████▍  | 465/625 [04:43<01:34,  1.70it/s]\u001b[A\n",
            "Training:  75%|███████▍  | 466/625 [04:43<01:32,  1.73it/s]\u001b[A\n",
            "Training:  75%|███████▍  | 467/625 [04:44<01:29,  1.77it/s]\u001b[A\n",
            "Training:  75%|███████▍  | 468/625 [04:44<01:27,  1.79it/s]\u001b[A\n",
            "Training:  75%|███████▌  | 469/625 [04:45<01:26,  1.80it/s]\u001b[A\n",
            "Training:  75%|███████▌  | 470/625 [04:45<01:26,  1.80it/s]\u001b[A\n",
            "Training:  75%|███████▌  | 471/625 [04:46<01:25,  1.81it/s]\u001b[A\n",
            "Training:  76%|███████▌  | 472/625 [04:46<01:23,  1.83it/s]\u001b[A\n",
            "Training:  76%|███████▌  | 473/625 [04:47<01:22,  1.85it/s]\u001b[A\n",
            "Training:  76%|███████▌  | 474/625 [04:48<01:22,  1.82it/s]\u001b[A\n",
            "Training:  76%|███████▌  | 475/625 [04:48<01:22,  1.82it/s]\u001b[A\n",
            "Training:  76%|███████▌  | 476/625 [04:49<01:21,  1.83it/s]\u001b[A\n",
            "Training:  76%|███████▋  | 477/625 [04:49<01:21,  1.82it/s]\u001b[A\n",
            "Training:  76%|███████▋  | 478/625 [04:50<01:21,  1.81it/s]\u001b[A\n",
            "Training:  77%|███████▋  | 479/625 [04:50<01:27,  1.66it/s]\u001b[A\n",
            "Training:  77%|███████▋  | 480/625 [04:51<01:35,  1.52it/s]\u001b[A\n",
            "Training:  77%|███████▋  | 481/625 [04:52<01:41,  1.42it/s]\u001b[A\n",
            "Training:  77%|███████▋  | 482/625 [04:53<01:47,  1.33it/s]\u001b[A\n",
            "Training:  77%|███████▋  | 483/625 [04:54<01:50,  1.29it/s]\u001b[A\n",
            "Training:  77%|███████▋  | 484/625 [04:55<01:50,  1.27it/s]\u001b[A\n",
            "Training:  78%|███████▊  | 485/625 [04:55<01:39,  1.40it/s]\u001b[A\n",
            "Training:  78%|███████▊  | 486/625 [04:56<01:32,  1.51it/s]\u001b[A\n",
            "Training:  78%|███████▊  | 487/625 [04:56<01:26,  1.60it/s]\u001b[A\n",
            "Training:  78%|███████▊  | 488/625 [04:57<01:22,  1.67it/s]\u001b[A\n",
            "Training:  78%|███████▊  | 489/625 [04:57<01:18,  1.72it/s]\u001b[A\n",
            "Training:  78%|███████▊  | 490/625 [04:58<01:16,  1.76it/s]\u001b[A\n",
            "Training:  79%|███████▊  | 491/625 [04:58<01:15,  1.78it/s]\u001b[A\n",
            "Training:  79%|███████▊  | 492/625 [04:59<01:14,  1.79it/s]\u001b[A\n",
            "Training:  79%|███████▉  | 493/625 [04:59<01:13,  1.79it/s]\u001b[A\n",
            "Training:  79%|███████▉  | 494/625 [05:00<01:12,  1.80it/s]\u001b[A\n",
            "Training:  79%|███████▉  | 495/625 [05:01<01:11,  1.83it/s]\u001b[A\n",
            "Training:  79%|███████▉  | 496/625 [05:01<01:10,  1.83it/s]\u001b[A\n",
            "Training:  80%|███████▉  | 497/625 [05:02<01:09,  1.84it/s]\u001b[A\n",
            "Training:  80%|███████▉  | 498/625 [05:02<01:08,  1.85it/s]\u001b[A\n",
            "Training:  80%|███████▉  | 499/625 [05:03<01:08,  1.85it/s]\u001b[A\n",
            "Training:  80%|████████  | 500/625 [05:03<01:07,  1.85it/s]\u001b[A\n",
            "Training:  80%|████████  | 501/625 [05:04<01:07,  1.85it/s]\u001b[A\n",
            "Training:  80%|████████  | 502/625 [05:04<01:06,  1.85it/s]\u001b[A\n",
            "Training:  80%|████████  | 503/625 [05:05<01:10,  1.73it/s]\u001b[A\n",
            "Training:  81%|████████  | 504/625 [05:06<01:18,  1.55it/s]\u001b[A\n",
            "Training:  81%|████████  | 505/625 [05:07<01:24,  1.43it/s]\u001b[A\n",
            "Training:  81%|████████  | 506/625 [05:07<01:27,  1.37it/s]\u001b[A\n",
            "Training:  81%|████████  | 507/625 [05:08<01:29,  1.32it/s]\u001b[A\n",
            "Training:  81%|████████▏ | 508/625 [05:09<01:31,  1.27it/s]\u001b[A\n",
            "Training:  81%|████████▏ | 509/625 [05:10<01:23,  1.39it/s]\u001b[A\n",
            "Training:  82%|████████▏ | 510/625 [05:10<01:16,  1.50it/s]\u001b[A\n",
            "Training:  82%|████████▏ | 511/625 [05:11<01:11,  1.60it/s]\u001b[A\n",
            "Training:  82%|████████▏ | 512/625 [05:11<01:07,  1.67it/s]\u001b[A\n",
            "Training:  82%|████████▏ | 513/625 [05:12<01:04,  1.73it/s]\u001b[A\n",
            "Training:  82%|████████▏ | 514/625 [05:12<01:03,  1.74it/s]\u001b[A\n",
            "Training:  82%|████████▏ | 515/625 [05:13<01:01,  1.78it/s]\u001b[A\n",
            "Training:  83%|████████▎ | 516/625 [05:13<01:01,  1.78it/s]\u001b[A\n",
            "Training:  83%|████████▎ | 517/625 [05:14<00:59,  1.82it/s]\u001b[A\n",
            "Training:  83%|████████▎ | 518/625 [05:14<00:58,  1.83it/s]\u001b[A\n",
            "Training:  83%|████████▎ | 519/625 [05:15<00:57,  1.84it/s]\u001b[A\n",
            "Training:  83%|████████▎ | 520/625 [05:16<00:57,  1.83it/s]\u001b[A\n",
            "Training:  83%|████████▎ | 521/625 [05:16<00:57,  1.82it/s]\u001b[A\n",
            "Training:  84%|████████▎ | 522/625 [05:17<00:56,  1.82it/s]\u001b[A\n",
            "Training:  84%|████████▎ | 523/625 [05:17<00:55,  1.83it/s]\u001b[A\n",
            "Training:  84%|████████▍ | 524/625 [05:18<00:55,  1.83it/s]\u001b[A\n",
            "Training:  84%|████████▍ | 525/625 [05:18<00:54,  1.83it/s]\u001b[A\n",
            "Training:  84%|████████▍ | 526/625 [05:19<00:53,  1.84it/s]\u001b[A\n",
            "Training:  84%|████████▍ | 527/625 [05:20<00:57,  1.72it/s]\u001b[A\n",
            "Training:  84%|████████▍ | 528/625 [05:20<01:02,  1.55it/s]\u001b[A\n",
            "Training:  85%|████████▍ | 529/625 [05:21<01:06,  1.45it/s]\u001b[A\n",
            "Training:  85%|████████▍ | 530/625 [05:22<01:09,  1.37it/s]\u001b[A\n",
            "Training:  85%|████████▍ | 531/625 [05:23<01:11,  1.32it/s]\u001b[A\n",
            "Training:  85%|████████▌ | 532/625 [05:24<01:11,  1.30it/s]\u001b[A\n",
            "Training:  85%|████████▌ | 533/625 [05:24<01:06,  1.37it/s]\u001b[A\n",
            "Training:  85%|████████▌ | 534/625 [05:25<01:01,  1.48it/s]\u001b[A\n",
            "Training:  86%|████████▌ | 535/625 [05:25<00:56,  1.58it/s]\u001b[A\n",
            "Training:  86%|████████▌ | 536/625 [05:26<00:53,  1.65it/s]\u001b[A\n",
            "Training:  86%|████████▌ | 537/625 [05:26<00:51,  1.72it/s]\u001b[A\n",
            "Training:  86%|████████▌ | 538/625 [05:27<00:49,  1.75it/s]\u001b[A\n",
            "Training:  86%|████████▌ | 539/625 [05:27<00:48,  1.77it/s]\u001b[A\n",
            "Training:  86%|████████▋ | 540/625 [05:28<00:47,  1.78it/s]\u001b[A\n",
            "Training:  87%|████████▋ | 541/625 [05:29<00:46,  1.80it/s]\u001b[A\n",
            "Training:  87%|████████▋ | 542/625 [05:29<00:45,  1.81it/s]\u001b[A\n",
            "Training:  87%|████████▋ | 543/625 [05:30<00:44,  1.82it/s]\u001b[A\n",
            "Training:  87%|████████▋ | 544/625 [05:30<00:44,  1.83it/s]\u001b[A\n",
            "Training:  87%|████████▋ | 545/625 [05:31<00:43,  1.84it/s]\u001b[A\n",
            "Training:  87%|████████▋ | 546/625 [05:31<00:43,  1.84it/s]\u001b[A\n",
            "Training:  88%|████████▊ | 547/625 [05:32<00:42,  1.83it/s]\u001b[A\n",
            "Training:  88%|████████▊ | 548/625 [05:32<00:41,  1.84it/s]\u001b[A\n",
            "Training:  88%|████████▊ | 549/625 [05:33<00:40,  1.85it/s]\u001b[A\n",
            "Training:  88%|████████▊ | 550/625 [05:33<00:40,  1.85it/s]\u001b[A\n",
            "Training:  88%|████████▊ | 551/625 [05:34<00:40,  1.81it/s]\u001b[A\n",
            "Training:  88%|████████▊ | 552/625 [05:35<00:46,  1.58it/s]\u001b[A\n",
            "Training:  88%|████████▊ | 553/625 [05:36<00:49,  1.46it/s]\u001b[A\n",
            "Training:  89%|████████▊ | 554/625 [05:36<00:51,  1.39it/s]\u001b[A\n",
            "Training:  89%|████████▉ | 555/625 [05:37<00:52,  1.33it/s]\u001b[A\n",
            "Training:  89%|████████▉ | 556/625 [05:38<00:52,  1.31it/s]\u001b[A\n",
            "Training:  89%|████████▉ | 557/625 [05:39<00:50,  1.35it/s]\u001b[A\n",
            "Training:  89%|████████▉ | 558/625 [05:39<00:45,  1.47it/s]\u001b[A\n",
            "Training:  89%|████████▉ | 559/625 [05:40<00:42,  1.56it/s]\u001b[A\n",
            "Training:  90%|████████▉ | 560/625 [05:40<00:39,  1.64it/s]\u001b[A\n",
            "Training:  90%|████████▉ | 561/625 [05:41<00:37,  1.69it/s]\u001b[A\n",
            "Training:  90%|████████▉ | 562/625 [05:41<00:36,  1.72it/s]\u001b[A\n",
            "Training:  90%|█████████ | 563/625 [05:42<00:35,  1.76it/s]\u001b[A\n",
            "Training:  90%|█████████ | 564/625 [05:43<00:34,  1.77it/s]\u001b[A\n",
            "Training:  90%|█████████ | 565/625 [05:43<00:33,  1.79it/s]\u001b[A\n",
            "Training:  91%|█████████ | 566/625 [05:44<00:33,  1.79it/s]\u001b[A\n",
            "Training:  91%|█████████ | 567/625 [05:44<00:31,  1.81it/s]\u001b[A\n",
            "Training:  91%|█████████ | 568/625 [05:45<00:31,  1.82it/s]\u001b[A\n",
            "Training:  91%|█████████ | 569/625 [05:45<00:30,  1.82it/s]\u001b[A\n",
            "Training:  91%|█████████ | 570/625 [05:46<00:30,  1.81it/s]\u001b[A\n",
            "Training:  91%|█████████▏| 571/625 [05:46<00:29,  1.84it/s]\u001b[A\n",
            "Training:  92%|█████████▏| 572/625 [05:47<00:29,  1.83it/s]\u001b[A\n",
            "Training:  92%|█████████▏| 573/625 [05:47<00:28,  1.84it/s]\u001b[A\n",
            "Training:  92%|█████████▏| 574/625 [05:48<00:27,  1.85it/s]\u001b[A\n",
            "Training:  92%|█████████▏| 575/625 [05:49<00:27,  1.84it/s]\u001b[A\n",
            "Training:  92%|█████████▏| 576/625 [05:49<00:30,  1.61it/s]\u001b[A\n",
            "Training:  92%|█████████▏| 577/625 [05:50<00:32,  1.47it/s]\u001b[A\n",
            "Training:  92%|█████████▏| 578/625 [05:51<00:33,  1.39it/s]\u001b[A\n",
            "Training:  93%|█████████▎| 579/625 [05:52<00:34,  1.34it/s]\u001b[A\n",
            "Training:  93%|█████████▎| 580/625 [05:53<00:34,  1.31it/s]\u001b[A\n",
            "Training:  93%|█████████▎| 581/625 [05:53<00:33,  1.30it/s]\u001b[A\n",
            "Training:  93%|█████████▎| 582/625 [05:54<00:30,  1.41it/s]\u001b[A\n",
            "Training:  93%|█████████▎| 583/625 [05:54<00:27,  1.53it/s]\u001b[A\n",
            "Training:  93%|█████████▎| 584/625 [05:55<00:25,  1.61it/s]\u001b[A\n",
            "Training:  94%|█████████▎| 585/625 [05:56<00:23,  1.68it/s]\u001b[A\n",
            "Training:  94%|█████████▍| 586/625 [05:56<00:22,  1.73it/s]\u001b[A\n",
            "Training:  94%|█████████▍| 587/625 [05:57<00:21,  1.77it/s]\u001b[A\n",
            "Training:  94%|█████████▍| 588/625 [05:57<00:20,  1.79it/s]\u001b[A\n",
            "Training:  94%|█████████▍| 589/625 [05:58<00:19,  1.82it/s]\u001b[A\n",
            "Training:  94%|█████████▍| 590/625 [05:58<00:19,  1.83it/s]\u001b[A\n",
            "Training:  95%|█████████▍| 591/625 [05:59<00:18,  1.84it/s]\u001b[A\n",
            "Training:  95%|█████████▍| 592/625 [05:59<00:17,  1.84it/s]\u001b[A\n",
            "Training:  95%|█████████▍| 593/625 [06:00<00:17,  1.86it/s]\u001b[A\n",
            "Training:  95%|█████████▌| 594/625 [06:00<00:16,  1.85it/s]\u001b[A\n",
            "Training:  95%|█████████▌| 595/625 [06:01<00:16,  1.85it/s]\u001b[A\n",
            "Training:  95%|█████████▌| 596/625 [06:01<00:15,  1.84it/s]\u001b[A\n",
            "Training:  96%|█████████▌| 597/625 [06:02<00:15,  1.83it/s]\u001b[A\n",
            "Training:  96%|█████████▌| 598/625 [06:03<00:14,  1.83it/s]\u001b[A\n",
            "Training:  96%|█████████▌| 599/625 [06:03<00:14,  1.83it/s]\u001b[A\n",
            "Training:  96%|█████████▌| 600/625 [06:04<00:15,  1.64it/s]\u001b[A\n",
            "Training:  96%|█████████▌| 601/625 [06:05<00:16,  1.49it/s]\u001b[A\n",
            "Training:  96%|█████████▋| 602/625 [06:06<00:16,  1.40it/s]\u001b[A\n",
            "Training:  96%|█████████▋| 603/625 [06:06<00:16,  1.35it/s]\u001b[A\n",
            "Training:  97%|█████████▋| 604/625 [06:07<00:15,  1.32it/s]\u001b[A\n",
            "Training:  97%|█████████▋| 605/625 [06:08<00:15,  1.30it/s]\u001b[A\n",
            "Training:  97%|█████████▋| 606/625 [06:08<00:13,  1.43it/s]\u001b[A\n",
            "Training:  97%|█████████▋| 607/625 [06:09<00:11,  1.53it/s]\u001b[A\n",
            "Training:  97%|█████████▋| 608/625 [06:10<00:10,  1.62it/s]\u001b[A\n",
            "Training:  97%|█████████▋| 609/625 [06:10<00:09,  1.69it/s]\u001b[A\n",
            "Training:  98%|█████████▊| 610/625 [06:11<00:08,  1.73it/s]\u001b[A\n",
            "Training:  98%|█████████▊| 611/625 [06:11<00:07,  1.78it/s]\u001b[A\n",
            "Training:  98%|█████████▊| 612/625 [06:12<00:07,  1.79it/s]\u001b[A\n",
            "Training:  98%|█████████▊| 613/625 [06:12<00:06,  1.81it/s]\u001b[A\n",
            "Training:  98%|█████████▊| 614/625 [06:13<00:06,  1.81it/s]\u001b[A\n",
            "Training:  98%|█████████▊| 615/625 [06:13<00:05,  1.82it/s]\u001b[A\n",
            "Training:  99%|█████████▊| 616/625 [06:14<00:04,  1.82it/s]\u001b[A\n",
            "Training:  99%|█████████▊| 617/625 [06:14<00:04,  1.82it/s]\u001b[A\n",
            "Training:  99%|█████████▉| 618/625 [06:15<00:03,  1.83it/s]\u001b[A\n",
            "Training:  99%|█████████▉| 619/625 [06:15<00:03,  1.84it/s]\u001b[A\n",
            "Training:  99%|█████████▉| 620/625 [06:16<00:02,  1.83it/s]\u001b[A\n",
            "Training:  99%|█████████▉| 621/625 [06:17<00:02,  1.82it/s]\u001b[A\n",
            "Training: 100%|█████████▉| 622/625 [06:17<00:01,  1.84it/s]\u001b[A\n",
            "Training: 100%|█████████▉| 623/625 [06:18<00:01,  1.85it/s]\u001b[A\n",
            "Training: 100%|█████████▉| 624/625 [06:18<00:00,  1.68it/s]\u001b[A\n",
            "Training: 100%|██████████| 625/625 [06:19<00:00,  1.65it/s]\n"
          ]
        },
        {
          "output_type": "stream",
          "name": "stdout",
          "text": [
            "Epoch 1\n",
            "train_loss : 433.28850853443146 test_loss : 108.84707707166672\n",
            "train_accuracy : 49.9725 test_accuracy : 49.71\n",
            "Validation loss decreased (inf --> 108.847077).  Saving model ...\n",
            "======================================================================\n"
          ]
        },
        {
          "output_type": "stream",
          "name": "stderr",
          "text": [
            "Training: 100%|██████████| 625/625 [06:16<00:00,  1.66it/s]\n"
          ]
        },
        {
          "output_type": "stream",
          "name": "stdout",
          "text": [
            "Epoch 2\n",
            "train_loss : 433.3225418329239 test_loss : 108.84966123104095\n",
            "train_accuracy : 49.705 test_accuracy : 49.71\n",
            "======================================================================\n"
          ]
        },
        {
          "output_type": "stream",
          "name": "stderr",
          "text": [
            "Training: 100%|██████████| 625/625 [06:23<00:00,  1.63it/s]\n"
          ]
        },
        {
          "output_type": "stream",
          "name": "stdout",
          "text": [
            "Epoch 3\n",
            "train_loss : 433.3162602186203 test_loss : 108.84781849384308\n",
            "train_accuracy : 49.7225 test_accuracy : 49.71\n",
            "======================================================================\n"
          ]
        }
      ],
      "source": [
        "learning_rate = 1e-3\n",
        "num_epochs = 3\n",
        "\n",
        "criterion = nn.BCELoss()\n",
        "optimizer = torch.optim.Adam(model.parameters(), lr = learning_rate)\n",
        "\n",
        "def accuracy(prediction, label):\n",
        "    prediction = torch.round(prediction.squeeze())\n",
        "    return torch.sum(prediction == label.squeeze()).item()\n",
        "\n",
        "min_loss_attained = np.Inf    # this variable will contain the minimum value of the loss function attained in any of the epochs.\n",
        "                              #It is used to discard the results of further epochs if their losses are more than min_loss_attained.\n",
        "\n",
        "epoch_train_loss,epoch_test_loss = [],[]\n",
        "epoch_train_acc,epoch_test_acc = [],[]    # These lists will hold the average loss and accuracy values of each epoch\n",
        "\n",
        "\n",
        "\n",
        "for epoch in range(num_epochs):\n",
        "  train_losses = 0.0\n",
        "  train_accuracy = 0.0\n",
        "\n",
        "  progress_bar = tqdm(total=len(train_batch_loader), desc='Training', leave = True)  # You don't need to worry about this line,\n",
        "                                                                                          # it's just to display a progress bar that shows the percentage trained\n",
        "\n",
        "  model.train()\n",
        "\n",
        "  for inputs, labels in train_batch_loader:\n",
        "    inputs, labels = inputs.to(device), labels.to(device)\n",
        "\n",
        "    # <START>\n",
        "    # Don't forget to reset the gradients before beginning!\n",
        "    optimizer.zero_grad()\n",
        "    output =model(inputs)\n",
        "\n",
        "    # compute the loss and implement the back propagation step\n",
        "    loss =criterion(output, labels.float())\n",
        "\n",
        "    # <END>\n",
        "\n",
        "    # Calculating loss and accuracy; we will store the cumulative values and finally use them to compute the average loss and accuracy of the epoch\n",
        "    train_losses += loss.item()\n",
        "    acc = accuracy(output,labels)\n",
        "    train_accuracy += acc\n",
        "\n",
        "    nn.utils.clip_grad_norm_(model.parameters(), 5) # This line helps avoid the exploding gradient problem\n",
        "\n",
        "    optimizer.step()\n",
        "\n",
        "    progress_bar.update(1)\n",
        "\n",
        "  progress_bar.close()\n",
        "\n",
        "  # After the training run of each epoch, we will evaluate the performance of our model\n",
        "\n",
        "  test_losses = 0.0  # Again, this will store cumulative loss\n",
        "  test_accuracy = 0.0   # and this will store cumulative test accuracy\n",
        "\n",
        "  model.eval()\n",
        "\n",
        "  for inputs, labels in test_batch_loader:\n",
        "    inputs, labels = inputs.to(device), labels.to(device)\n",
        "\n",
        "    # <START>   # Compute the loss\n",
        "    output = model(inputs)\n",
        "    test_loss =criterion(output, labels.float())\n",
        "    # <END>\n",
        "\n",
        "    test_losses += test_loss.item()\n",
        "\n",
        "    acc = accuracy(output,labels)\n",
        "    test_accuracy += acc\n",
        "\n",
        "\n",
        "  epoch_train_accuracy = train_accuracy/len(train_batch_loader.dataset)\n",
        "  epoch_test_accuracy = test_accuracy/len(test_batch_loader.dataset)\n",
        "\n",
        "\n",
        "  avg_train_loss = np.mean(train_losses)\n",
        "  avg_test_loss = np.mean(test_losses)\n",
        "\n",
        "  epoch_train_loss.append(avg_train_loss)\n",
        "  epoch_test_loss.append(avg_test_loss)\n",
        "  epoch_test_acc.append(epoch_test_accuracy)\n",
        "  epoch_train_acc.append(epoch_train_accuracy)\n",
        "\n",
        "  print(f'Epoch {epoch+1}')\n",
        "  print(f'train_loss : {avg_train_loss} test_loss : {avg_test_loss}')\n",
        "  print(f'train_accuracy : {epoch_train_accuracy*100} test_accuracy : {epoch_test_accuracy*100}')\n",
        "  if avg_test_loss < min_loss_attained:\n",
        "    torch.save(model.state_dict(), '/content/drive/MyDrive/state_dict.pt')\n",
        "    print('Validation loss decreased ({:.6f} --> {:.6f}).  Saving model ...'.format(min_loss_attained, avg_test_loss))\n",
        "    min_loss_attained = avg_test_loss\n",
        "  print(70*'=')\n"
      ]
    },
    {
      "cell_type": "markdown",
      "source": [
        "Let's visualize the accuracy and loss of our model graphically. Run the below cell to generate plots for the same."
      ],
      "metadata": {
        "id": "X_UPDcpRk8HI"
      }
    },
    {
      "cell_type": "code",
      "execution_count": null,
      "metadata": {
        "id": "vtl0ZSZFBrbQ",
        "colab": {
          "base_uri": "https://localhost:8080/",
          "height": 476
        },
        "outputId": "00819b0b-6990-411c-8533-a5c90b4b561c"
      },
      "outputs": [
        {
          "output_type": "display_data",
          "data": {
            "text/plain": [
              "<Figure size 2000x600 with 2 Axes>"
            ],
            "image/png": "[encoded data removed]"
          },
          "metadata": {}
        }
      ],
      "source": [
        "fig = plt.figure(figsize = (20, 6))\n",
        "plt.subplot(1, 2, 1)\n",
        "plt.plot(epoch_train_acc, label='Training Accuracy')\n",
        "plt.plot(epoch_test_acc, label='Testing Accuracy')\n",
        "plt.title(\"Accuracy\")\n",
        "plt.legend()\n",
        "plt.grid()\n",
        "\n",
        "plt.subplot(1, 2, 2)\n",
        "plt.plot(epoch_train_loss, label='Training loss')\n",
        "plt.plot(epoch_test_loss, label='Testing loss')\n",
        "plt.title(\"Loss\")\n",
        "plt.legend()\n",
        "plt.grid()\n",
        "\n",
        "plt.show()"
      ]
    },
    {
      "cell_type": "code",
      "source": [],
      "metadata": {
        "id": "o3cKY8O3v4pS"
      },
      "execution_count": null,
      "outputs": []
    }
  ],
  "metadata": {
    "colab": {
      "provenance": []
    },
    "kernelspec": {
      "display_name": "Python 3",
      "language": "python",
      "name": "python3"
    },
    "language_info": {
      "codemirror_mode": {
        "name": "ipython",
        "version": 3
      },
      "file_extension": ".py",
      "mimetype": "text/x-python",
      "name": "python",
      "nbconvert_exporter": "python",
      "pygments_lexer": "ipython3",
      "version": "3.6.6"
    }
  },
  "nbformat": 4,
  "nbformat_minor": 0
}