{
 "cells": [
  {
   "cell_type": "markdown",
   "metadata": {
    "id": "D0lIe1uahq_L"
   },
   "source": [
    "## **Mounting Google Drive**\n",
    "First, we need to import the dataset of images from your Google Drive. To do so, **run the below cell**. This will mount your Drive to the running Colab instance. Then, you will be able to access all your Google Drive data in this notebook."
   ]
  },
  {
   "cell_type": "code",
   "execution_count": null,
   "metadata": {
    "colab": {
     "base_uri": "https://localhost:8080/"
    },
    "id": "ObnNbRJPQrYK",
    "outputId": "0ac3f58b-38a1-424e-f88d-08232599b67c"
   },
   "outputs": [
    {
     "name": "stdout",
     "output_type": "stream",
     "text": [
      "Mounted at /content/drive\n"
     ]
    }
   ],
   "source": [
    "from google.colab import drive\n",
    "drive.mount('/content/drive')"
   ]
  },
  {
   "cell_type": "markdown",
   "metadata": {
    "id": "ElYLMOGFBq1r"
   },
   "source": [
    "## **Import the Libraries**\n",
    "\n",
    "Run the cell below to import all the necessary libraries for building the neural network using PyTorch.  \n",
    "You will primarily use the **`nn` module** of the **PyTorch** library for building the neural network."
   ]
  },
  {
   "cell_type": "code",
   "execution_count": null,
   "metadata": {
    "id": "1ZVxJx87kAAN"
   },
   "outputs": [],
   "source": [
    "import os\n",
    "import numpy as np\n",
    "import torch\n",
    "import torch.nn as nn\n",
    "import matplotlib.pyplot as plt\n",
    "import matplotlib.image as mpimg\n",
    "%matplotlib inline"
   ]
  },
  {
   "cell_type": "markdown",
   "metadata": {
    "id": "GpoxEmvICmNr"
   },
   "source": [
    "## **Importing the Dataset**\n",
    "\n",
    "We now need to import the dataset from the Google Drive. Below given is a function named `getdata`, which takes the path of the folder from which data is to be imported as its argument.\n",
    "\n",
    "You are required to give in the path of the folder in which the images of `pizza` and `not_pizza` are saved in your Google Drive. Locate the path using the Colab File Explorer (the file icon in the sidebar).\n",
    "\n",
    "The `getdata` function reads each image stored at the given path and converts and stores it as a PyTorch Tensor.\n",
    "\n",
    "_Note: This cell may take a while to finish running_\n",
    "<details>\n",
    "  <summary>Hint</summary>\n",
    "  The Google Drive was mounted to the location \"/content/drive\", containing the folder \"My Drive\", which corresponds to your actual Google Drive.\n",
    "</details>"
   ]
  },
  {
   "cell_type": "code",
   "execution_count": null,
   "metadata": {
    "id": "QvO6vf9cqR5i"
   },
   "outputs": [],
   "source": [
    "def getdata(path):\n",
    "  data = torch.tensor([])\n",
    "  file_list = os.listdir(path)\n",
    "  for file_name in file_list[:350]:\n",
    "    image_path = os.path.join(path, file_name)\n",
    "    image = mpimg.imread(image_path)\n",
    "    imageData = torch.from_numpy(image).long()\n",
    "    data = torch.cat((data, imageData.unsqueeze(0)), dim=0)\n",
    "  return data\n",
    "\n",
    "# <START>\n",
    "pizza_path = '/content/drive/MyDrive/NNLLM/pizza_vs_not/pizza'\n",
    "not_pizza_path = '/content/drive/MyDrive/NNLLM/pizza_vs_not/not_pizza'\n",
    "# <END>\n",
    "\n",
    "not_pizza_data = getdata(not_pizza_path)\n",
    "pizza_data = getdata(pizza_path)"
   ]
  },
  {
   "cell_type": "markdown",
   "metadata": {
    "id": "SIucUmRBGaZJ"
   },
   "source": [
    "Using the next cell, you can preview the images you've just loaded"
   ]
  },
  {
   "cell_type": "code",
   "execution_count": null,
   "metadata": {
    "colab": {
     "base_uri": "https://localhost:8080/",
     "height": 449
    },
    "id": "7a_9TI1zEd7r",
    "outputId": "8b22b471-a190-46d6-9ea3-d9d74d3df566"
   },
   "outputs": [
    {
     "data": {
      "text/plain": [
       "<matplotlib.image.AxesImage at 0x7eb492733880>"
      ]
     },
     "execution_count": 4,
     "metadata": {},
     "output_type": "execute_result"
    },
    {
     "data": {
      "image/png": "[encoded data removed]",
      "text/plain": [
       "<Figure size 640x480 with 1 Axes>"
      ]
     },
     "metadata": {},
     "output_type": "display_data"
    }
   ],
   "source": [
    "# Change values of index, data\n",
    "# <START>\n",
    "index = 222 # 0 to 349\n",
    "data = not_pizza_data # pizza_data (or) not_pizza_data\n",
    "# <END>\n",
    "\n",
    "plt.imshow(data[index].int())"
   ]
  },
  {
   "cell_type": "markdown",
   "metadata": {
    "id": "uiKp-IkYDpB_"
   },
   "source": [
    "## **Preprocessing the dataset**\n",
    "\n",
    "Before we begin working with the neural network, we need to make sure our data (in this case, $64\\times64$ RGB images) is in a format that neural networks can work with.\n",
    "\n",
    "First, we create a `train_data` collection of images for training the neural network, and another collection `test_data` that will then be used to check the accuracy of the trained neural network. We do this by taking slices of the total data and concatenating them.  "
   ]
  },
  {
   "cell_type": "code",
   "execution_count": null,
   "metadata": {
    "colab": {
     "base_uri": "https://localhost:8080/"
    },
    "id": "qHHnTe3Hq8cr",
    "outputId": "d7ca22e4-7e7b-43f5-f16e-372468989829"
   },
   "outputs": [
    {
     "name": "stdout",
     "output_type": "stream",
     "text": [
      "torch.Size([500, 64, 64, 3])\n"
     ]
    }
   ],
   "source": [
    "train_data = torch.cat((pizza_data[:300], not_pizza_data[:200]), dim = 0)\n",
    "test_data = torch.cat((pizza_data[300:350], not_pizza_data[200:250]), dim = 0)\n",
    "print(train_data.shape)"
   ]
  },
  {
   "cell_type": "markdown",
   "metadata": {
    "id": "gp5rsLIAEBKa"
   },
   "source": [
    "Each image is still stored as a $64\\times64\\times3$ tensor ie. a $64\\times64$ array of 3 numbers - the RGB values of the pixel, taking values between **0 to 255**.  \n",
    "You need to flatten the images in both datasets to make *reshaped* data, and normalise them to get the *final* data we will use to train and test the model.\n",
    "\n",
    "<details>\n",
    "  <summary>Hint</summary>\n",
    "  Use the reshape command to flatten the dataset and then normalise the flattened dataset (ie. make sure all the values lie between 0 and 1).\n",
    "</details>"
   ]
  },
  {
   "cell_type": "code",
   "execution_count": null,
   "metadata": {
    "colab": {
     "base_uri": "https://localhost:8080/"
    },
    "id": "XxdYwPTe3dMr",
    "outputId": "1955b278-463c-4418-eada-253b69712167"
   },
   "outputs": [
    {
     "name": "stdout",
     "output_type": "stream",
     "text": [
      "torch.Size([500, 12288]) torch.Size([100, 12288])\n"
     ]
    }
   ],
   "source": [
    "# <START>\n",
    "\n",
    "from torch.nn.functional import normalize\n",
    "reshaped_train_data = train_data.reshape(-1,1)\n",
    "reshaped_test_data = test_data.reshape(-1,1)\n",
    "\n",
    "final_train_data =  normalize(reshaped_train_data, p=2.0, dim = 0)\n",
    "final_test_data =   normalize(reshaped_test_data, p=2.0, dim = 0)\n",
    "final_train_data=final_train_data.reshape(500,12288)\n",
    "final_test_data = final_test_data.reshape(100,12288)\n",
    "\n",
    "\n",
    "# <END>\n",
    "\n",
    "print(final_train_data.shape, final_test_data.shape)\n"
   ]
  },
  {
   "cell_type": "markdown",
   "metadata": {
    "id": "CN9sZzmAEhed"
   },
   "source": [
    "Now that you have made two datasets, you need to make their corresponding `labels` Tensors, which store the true output for each image (whether or not it is a pizza).\n",
    "\n",
    "In the `labels` Tensor, use **`1`** for images that belong to `pizza` and **`0`** for `not_pizza`. (Try to use the concatenate function instead of simply using *for* loops for generating the `labels` Tensor !!)\n",
    "\n",
    "**Remember** to ensure that both `train_labels` and `test_labels` are 2D tensors of appropriate dimensions. Otherwise, it can cause issues ahead."
   ]
  },
  {
   "cell_type": "code",
   "execution_count": null,
   "metadata": {
    "colab": {
     "base_uri": "https://localhost:8080/"
    },
    "id": "AB9ngSqaruoK",
    "outputId": "5dbd1170-3c42-4e78-b936-40e43411800c"
   },
   "outputs": [
    {
     "name": "stdout",
     "output_type": "stream",
     "text": [
      "torch.Size([500, 1]) torch.Size([100, 1])\n"
     ]
    }
   ],
   "source": [
    "# <START>\n",
    "\n",
    "train_labels = torch.cat((torch.ones(300, 1), torch.zeros(200, 1)), dim=0)\n",
    "\n",
    "test_labels = torch.cat((torch.ones(50, 1), torch.zeros(50, 1)), dim=0)\n",
    "\n",
    "# <END>\n",
    "\n",
    "print(train_labels.shape, test_labels.shape)"
   ]
  },
  {
   "cell_type": "markdown",
   "metadata": {
    "id": "tfcBVaGoFVH-"
   },
   "source": [
    "##**Building the Neural Network**\n",
    "\n",
    "Now, we will start making the actual neural network.\n",
    "\n",
    "First, initialise the hyperparameters of the neural network.  \n",
    "Here, we are going to make a 3 layer neural network (i.e., 1 input layer, 2 hidden layers and 1 output layer). The first hidden layer will have 10 nodes, while the second will have 12.   \n",
    "Enter the number of input parameters, number of nodes of each hidden layer and the number of output parameters."
   ]
  },
  {
   "cell_type": "code",
   "execution_count": null,
   "metadata": {
    "id": "Nzoq4S8aqY88"
   },
   "outputs": [],
   "source": [
    "# <START>\n",
    "\n",
    "D_in =12288\n",
    "H1 = 10\n",
    "H2 = 12\n",
    "D_out =1\n",
    "\n",
    "# <END>"
   ]
  },
  {
   "cell_type": "markdown",
   "metadata": {
    "id": "k99hJnXbGAwS"
   },
   "source": [
    "Now you will make the actual model. The Model includes the use of `Linear` function at each layer, alongside non-linear activation functions.\n",
    "\n",
    "We are going to use `ReLU` functions as activation functions for the input and the first hidden layer and `Sigmoid` function for the final output, as we want an output between 0 and 1.\n",
    "\n",
    "(Hint: `Linear`, `ReLU` and `Sigmoid` functions are a part of the `nn` module of the **PyTorch** library)"
   ]
  },
  {
   "cell_type": "code",
   "execution_count": null,
   "metadata": {
    "id": "YFA7NWqTqdlu"
   },
   "outputs": [],
   "source": [
    "\n",
    "model = torch.nn.Sequential(\n",
    "    # Do not hard-code any values, use the variables from the previous cell\n",
    "    # <START>\n",
    "    nn.Linear(D_in, H1),\n",
    "    nn.ReLU(),\n",
    "    nn.Linear(H1, H2),\n",
    "    nn.ReLU(),\n",
    "    nn.Linear(H2, D_out),\n",
    "    nn.Sigmoid()\n",
    "    # <END>\n",
    "\n",
    ")\n"
   ]
  },
  {
   "cell_type": "code",
   "execution_count": null,
   "metadata": {
    "colab": {
     "base_uri": "https://localhost:8080/"
    },
    "id": "nkoOyUiYzTGA",
    "outputId": "b562a6a0-1c1d-4df2-c33f-d3137101fbfb"
   },
   "outputs": [
    {
     "data": {
      "text/plain": [
       "tensor([0.5496], grad_fn=<SigmoidBackward0>)"
      ]
     },
     "execution_count": 81,
     "metadata": {},
     "output_type": "execute_result"
    }
   ],
   "source": [
    "model(final_train_data[0]) #To check if the model works"
   ]
  },
  {
   "cell_type": "markdown",
   "metadata": {
    "id": "pI5qXU5fHPG2"
   },
   "source": [
    "After making the model, we defined the `loss_fn` , i.e., the loss function as the Binary Cross Entropy Loss.\n",
    "\n",
    "Here, you will implement gradient descent.\n",
    "\n",
    "The `learning_rate` is the step size which the neural network takes when it updates the parameters of the network. (Try to explore various values of step size. Values similar to 0.005 are usually suitable). Also play around with the number of `iterations` the gradient descent algorithm needs to take.\n",
    "\n",
    "**Follow the steps given as per the comments.**\n",
    "\n",
    "*Note: When you run the code, it could take about 5 minutes for the network to finish training.*"
   ]
  },
  {
   "cell_type": "code",
   "execution_count": null,
   "metadata": {
    "colab": {
     "base_uri": "https://localhost:8080/"
    },
    "id": "WrcyQE-nqgUL",
    "outputId": "cf309f3b-7a08-49ba-94c3-5325c2bcf7ed"
   },
   "outputs": [
    {
     "name": "stdout",
     "output_type": "stream",
     "text": [
      "tensor(0.2701, grad_fn=<BinaryCrossEntropyBackward0>)\n",
      "tensor(0.2319, grad_fn=<BinaryCrossEntropyBackward0>)\n",
      "tensor(0.2292, grad_fn=<BinaryCrossEntropyBackward0>)\n",
      "tensor(0.2278, grad_fn=<BinaryCrossEntropyBackward0>)\n",
      "tensor(0.2268, grad_fn=<BinaryCrossEntropyBackward0>)\n",
      "tensor(0.2262, grad_fn=<BinaryCrossEntropyBackward0>)\n",
      "tensor(0.2252, grad_fn=<BinaryCrossEntropyBackward0>)\n",
      "tensor(0.2247, grad_fn=<BinaryCrossEntropyBackward0>)\n",
      "tensor(0.2242, grad_fn=<BinaryCrossEntropyBackward0>)\n",
      "tensor(0.2239, grad_fn=<BinaryCrossEntropyBackward0>)\n",
      "tensor(0.2236, grad_fn=<BinaryCrossEntropyBackward0>)\n",
      "tensor(0.2234, grad_fn=<BinaryCrossEntropyBackward0>)\n",
      "tensor(0.2231, grad_fn=<BinaryCrossEntropyBackward0>)\n",
      "tensor(0.2229, grad_fn=<BinaryCrossEntropyBackward0>)\n",
      "tensor(0.2227, grad_fn=<BinaryCrossEntropyBackward0>)\n",
      "tensor(0.2225, grad_fn=<BinaryCrossEntropyBackward0>)\n",
      "tensor(0.2223, grad_fn=<BinaryCrossEntropyBackward0>)\n",
      "tensor(0.2221, grad_fn=<BinaryCrossEntropyBackward0>)\n",
      "tensor(0.2219, grad_fn=<BinaryCrossEntropyBackward0>)\n",
      "tensor(0.2217, grad_fn=<BinaryCrossEntropyBackward0>)\n",
      "tensor(0.2215, grad_fn=<BinaryCrossEntropyBackward0>)\n",
      "tensor(0.2213, grad_fn=<BinaryCrossEntropyBackward0>)\n",
      "tensor(0.2211, grad_fn=<BinaryCrossEntropyBackward0>)\n",
      "tensor(0.2209, grad_fn=<BinaryCrossEntropyBackward0>)\n",
      "tensor(0.2207, grad_fn=<BinaryCrossEntropyBackward0>)\n",
      "tensor(0.2205, grad_fn=<BinaryCrossEntropyBackward0>)\n",
      "tensor(0.2203, grad_fn=<BinaryCrossEntropyBackward0>)\n",
      "tensor(0.2201, grad_fn=<BinaryCrossEntropyBackward0>)\n",
      "tensor(0.2199, grad_fn=<BinaryCrossEntropyBackward0>)\n",
      "tensor(0.2197, grad_fn=<BinaryCrossEntropyBackward0>)\n",
      "tensor(0.2196, grad_fn=<BinaryCrossEntropyBackward0>)\n",
      "tensor(0.2194, grad_fn=<BinaryCrossEntropyBackward0>)\n",
      "tensor(0.2192, grad_fn=<BinaryCrossEntropyBackward0>)\n",
      "tensor(0.2190, grad_fn=<BinaryCrossEntropyBackward0>)\n",
      "tensor(0.2188, grad_fn=<BinaryCrossEntropyBackward0>)\n",
      "tensor(0.2186, grad_fn=<BinaryCrossEntropyBackward0>)\n",
      "tensor(0.2184, grad_fn=<BinaryCrossEntropyBackward0>)\n",
      "tensor(0.2182, grad_fn=<BinaryCrossEntropyBackward0>)\n",
      "tensor(0.2181, grad_fn=<BinaryCrossEntropyBackward0>)\n",
      "tensor(0.2179, grad_fn=<BinaryCrossEntropyBackward0>)\n"
     ]
    }
   ],
   "source": [
    "loss_fn = nn.BCELoss()\n",
    "\n",
    "# <START>\n",
    "\n",
    "learning_rate = 0.01\n",
    "iterations = 40000\n",
    "optimizer = torch.optim.SGD(model.parameters(), lr=learning_rate)\n",
    "for t in range(iterations):\n",
    "\n",
    "    # call the model on the dataset\n",
    "    y_pred =model(final_train_data)\n",
    "\n",
    "    #calculate the loss\n",
    "    loss = loss_fn(y_pred, train_labels)\n",
    "\n",
    "    if t%1000 == 1:\n",
    "        print(loss)\n",
    "\n",
    "    #calculate the gradients (dont forget to reset the gradients before you begin)\n",
    "    loss.backward()\n",
    "\n",
    "\n",
    "    # update the values of the parameters\n",
    "    with torch.no_grad():\n",
    "      optimizer.step()\n",
    "    optimizer.zero_grad()\n",
    "\n",
    "\n",
    "\n",
    "# <END>\n",
    "\n",
    "torch.save(model, 'model_best.pt')"
   ]
  },
  {
   "cell_type": "markdown",
   "metadata": {
    "id": "uT_u2Q_EJ4ki"
   },
   "source": [
    "## **Checking the Results**\n",
    "Now that we have used the training set to train the network, we shall use the test set to check how the neural network performs with new inputs."
   ]
  },
  {
   "cell_type": "code",
   "execution_count": null,
   "metadata": {
    "colab": {
     "base_uri": "https://localhost:8080/",
     "height": 449
    },
    "id": "Ykt2FcjfHW0S",
    "outputId": "9cbdb80d-8b4d-4104-cb30-8e222dd49f51"
   },
   "outputs": [
    {
     "name": "stdout",
     "output_type": "stream",
     "text": [
      "According to the neural network, index = 56 is not a pizza\n"
     ]
    },
    {
     "data": {
      "image/png": "[encoded data removed]",
      "text/plain": [
       "<Figure size 640x480 with 1 Axes>"
      ]
     },
     "metadata": {},
     "output_type": "display_data"
    }
   ],
   "source": [
    "# Change values of index\n",
    "# <START>\n",
    "index =56 #0 to 99\n",
    "# <END>\n",
    "\n",
    "plt.imshow(test_data[index].int())\n",
    "print (f'According to the neural network, index = {index} is {\"a pizza\" if model(final_test_data[index]) > 0.5 else \"not a pizza\"}' )"
   ]
  },
  {
   "cell_type": "markdown",
   "metadata": {
    "id": "3fQcWl1rHcuL"
   },
   "source": [
    "To quantize how accurately the neural network is able to classify images, we have defined a helper `predict` function that takes a dataset and returns the fraction of times the neural network correctly classified the image.  \n",
    "\n",
    "Complete the function such that it prints the correct accuracy of its predictions."
   ]
  },
  {
   "cell_type": "code",
   "execution_count": null,
   "metadata": {
    "id": "RFwT6ARBs7gT"
   },
   "outputs": [],
   "source": [
    "def predict(model, data, labels):\n",
    "\n",
    "    probabilities = model(data)\n",
    "\n",
    "    # <START>\n",
    "\n",
    "    # generate the predictions tensor using the probabilities variable, which indicates the prediction made by the model for the given data using 0 and 1\n",
    "\n",
    "    predictions =  (probabilities >= 0.5).float()\n",
    "\n",
    "    # <END>\n",
    "\n",
    "    print(\"Accuracy: \"  + str(torch.sum((predictions == labels)).item()/predictions.shape[0]))"
   ]
  },
  {
   "cell_type": "markdown",
   "metadata": {
    "id": "7PVdX70uLUY9"
   },
   "source": [
    "**Run** the cell below to find out the accuracy of your model for the training and test datasets."
   ]
  },
  {
   "cell_type": "code",
   "execution_count": null,
   "metadata": {
    "colab": {
     "base_uri": "https://localhost:8080/"
    },
    "id": "V_iNzulpYpHH",
    "outputId": "382bafd7-dd68-403b-c018-2f4e3bfa10fb"
   },
   "outputs": [
    {
     "name": "stdout",
     "output_type": "stream",
     "text": [
      "Accuracy: 0.92\n",
      "Accuracy: 0.69\n",
      "Done!\n"
     ]
    }
   ],
   "source": [
    "predict(model, final_train_data, train_labels)\n",
    "predict(model,final_test_data,test_labels)\n",
    "print(\"Done!\")"
   ]
  },
  {
   "cell_type": "code",
   "execution_count": null,
   "metadata": {
    "id": "I7Js7_8yww0w"
   },
   "outputs": [],
   "source": []
  }
 ],
 "metadata": {
  "colab": {
   "provenance": []
  },
  "kernelspec": {
   "display_name": "Python 3 (ipykernel)",
   "language": "python",
   "name": "python3"
  },
  "language_info": {
   "codemirror_mode": {
    "name": "ipython",
    "version": 3
   },
   "file_extension": ".py",
   "mimetype": "text/x-python",
   "name": "python",
   "nbconvert_exporter": "python",
   "pygments_lexer": "ipython3",
   "version": "3.9.13"
  }
 },
 "nbformat": 4,
 "nbformat_minor": 1
}
